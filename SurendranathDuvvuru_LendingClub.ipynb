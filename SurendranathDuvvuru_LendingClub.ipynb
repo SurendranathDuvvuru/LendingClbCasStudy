{
  "cells": [
    {
      "cell_type": "markdown",
      "metadata": {
        "id": "caY1sjMqB8wZ"
      },
      "source": [
        "# ***Lending Club Case Study***"
      ]
    },
    {
      "cell_type": "code",
      "execution_count": 1,
      "metadata": {
        "id": "Cw14WILkBnQ1"
      },
      "outputs": [],
      "source": [
        "# Analysis\n",
        "import pandas as pd\n",
        "import numpy as np\n",
        "\n",
        "# Visualization\n",
        "import matplotlib.pyplot as plt\n",
        "import seaborn as sns\n",
        "\n",
        "# Extra\n",
        "import warnings\n",
        "warnings.filterwarnings(action=\"ignore\")"
      ]
    },
    {
      "cell_type": "markdown",
      "metadata": {
        "id": "OzB8CK6sDmyQ"
      },
      "source": [
        "## ***Data Understanding***"
      ]
    },
    {
      "cell_type": "code",
      "execution_count": 2,
      "metadata": {
        "colab": {
          "base_uri": "https://localhost:8080/",
          "height": 386
        },
        "id": "YWXDIkRjD-cM",
        "outputId": "c57bf4b0-5595-441d-9c3f-00e162b72ef4"
      },
      "outputs": [
        {
          "output_type": "execute_result",
          "data": {
            "text/plain": [
              "        id  member_id  loan_amnt  funded_amnt  funded_amnt_inv        term  \\\n",
              "0  1077501    1296599       5000         5000           4975.0   36 months   \n",
              "1  1077430    1314167       2500         2500           2500.0   60 months   \n",
              "2  1077175    1313524       2400         2400           2400.0   36 months   \n",
              "3  1076863    1277178      10000        10000          10000.0   36 months   \n",
              "4  1075358    1311748       3000         3000           3000.0   60 months   \n",
              "\n",
              "  int_rate  installment grade sub_grade  ... num_tl_90g_dpd_24m  \\\n",
              "0   10.65%       162.87     B        B2  ...                NaN   \n",
              "1   15.27%        59.83     C        C4  ...                NaN   \n",
              "2   15.96%        84.33     C        C5  ...                NaN   \n",
              "3   13.49%       339.31     C        C1  ...                NaN   \n",
              "4   12.69%        67.79     B        B5  ...                NaN   \n",
              "\n",
              "  num_tl_op_past_12m pct_tl_nvr_dlq  percent_bc_gt_75 pub_rec_bankruptcies  \\\n",
              "0                NaN            NaN               NaN                  0.0   \n",
              "1                NaN            NaN               NaN                  0.0   \n",
              "2                NaN            NaN               NaN                  0.0   \n",
              "3                NaN            NaN               NaN                  0.0   \n",
              "4                NaN            NaN               NaN                  0.0   \n",
              "\n",
              "  tax_liens tot_hi_cred_lim total_bal_ex_mort total_bc_limit  \\\n",
              "0       0.0             NaN               NaN            NaN   \n",
              "1       0.0             NaN               NaN            NaN   \n",
              "2       0.0             NaN               NaN            NaN   \n",
              "3       0.0             NaN               NaN            NaN   \n",
              "4       0.0             NaN               NaN            NaN   \n",
              "\n",
              "  total_il_high_credit_limit  \n",
              "0                        NaN  \n",
              "1                        NaN  \n",
              "2                        NaN  \n",
              "3                        NaN  \n",
              "4                        NaN  \n",
              "\n",
              "[5 rows x 111 columns]"
            ],
            "text/html": [
              "\n",
              "  <div id=\"df-1eec9fd9-d574-465a-8f81-c85809b9bc63\">\n",
              "    <div class=\"colab-df-container\">\n",
              "      <div>\n",
              "<style scoped>\n",
              "    .dataframe tbody tr th:only-of-type {\n",
              "        vertical-align: middle;\n",
              "    }\n",
              "\n",
              "    .dataframe tbody tr th {\n",
              "        vertical-align: top;\n",
              "    }\n",
              "\n",
              "    .dataframe thead th {\n",
              "        text-align: right;\n",
              "    }\n",
              "</style>\n",
              "<table border=\"1\" class=\"dataframe\">\n",
              "  <thead>\n",
              "    <tr style=\"text-align: right;\">\n",
              "      <th></th>\n",
              "      <th>id</th>\n",
              "      <th>member_id</th>\n",
              "      <th>loan_amnt</th>\n",
              "      <th>funded_amnt</th>\n",
              "      <th>funded_amnt_inv</th>\n",
              "      <th>term</th>\n",
              "      <th>int_rate</th>\n",
              "      <th>installment</th>\n",
              "      <th>grade</th>\n",
              "      <th>sub_grade</th>\n",
              "      <th>...</th>\n",
              "      <th>num_tl_90g_dpd_24m</th>\n",
              "      <th>num_tl_op_past_12m</th>\n",
              "      <th>pct_tl_nvr_dlq</th>\n",
              "      <th>percent_bc_gt_75</th>\n",
              "      <th>pub_rec_bankruptcies</th>\n",
              "      <th>tax_liens</th>\n",
              "      <th>tot_hi_cred_lim</th>\n",
              "      <th>total_bal_ex_mort</th>\n",
              "      <th>total_bc_limit</th>\n",
              "      <th>total_il_high_credit_limit</th>\n",
              "    </tr>\n",
              "  </thead>\n",
              "  <tbody>\n",
              "    <tr>\n",
              "      <th>0</th>\n",
              "      <td>1077501</td>\n",
              "      <td>1296599</td>\n",
              "      <td>5000</td>\n",
              "      <td>5000</td>\n",
              "      <td>4975.0</td>\n",
              "      <td>36 months</td>\n",
              "      <td>10.65%</td>\n",
              "      <td>162.87</td>\n",
              "      <td>B</td>\n",
              "      <td>B2</td>\n",
              "      <td>...</td>\n",
              "      <td>NaN</td>\n",
              "      <td>NaN</td>\n",
              "      <td>NaN</td>\n",
              "      <td>NaN</td>\n",
              "      <td>0.0</td>\n",
              "      <td>0.0</td>\n",
              "      <td>NaN</td>\n",
              "      <td>NaN</td>\n",
              "      <td>NaN</td>\n",
              "      <td>NaN</td>\n",
              "    </tr>\n",
              "    <tr>\n",
              "      <th>1</th>\n",
              "      <td>1077430</td>\n",
              "      <td>1314167</td>\n",
              "      <td>2500</td>\n",
              "      <td>2500</td>\n",
              "      <td>2500.0</td>\n",
              "      <td>60 months</td>\n",
              "      <td>15.27%</td>\n",
              "      <td>59.83</td>\n",
              "      <td>C</td>\n",
              "      <td>C4</td>\n",
              "      <td>...</td>\n",
              "      <td>NaN</td>\n",
              "      <td>NaN</td>\n",
              "      <td>NaN</td>\n",
              "      <td>NaN</td>\n",
              "      <td>0.0</td>\n",
              "      <td>0.0</td>\n",
              "      <td>NaN</td>\n",
              "      <td>NaN</td>\n",
              "      <td>NaN</td>\n",
              "      <td>NaN</td>\n",
              "    </tr>\n",
              "    <tr>\n",
              "      <th>2</th>\n",
              "      <td>1077175</td>\n",
              "      <td>1313524</td>\n",
              "      <td>2400</td>\n",
              "      <td>2400</td>\n",
              "      <td>2400.0</td>\n",
              "      <td>36 months</td>\n",
              "      <td>15.96%</td>\n",
              "      <td>84.33</td>\n",
              "      <td>C</td>\n",
              "      <td>C5</td>\n",
              "      <td>...</td>\n",
              "      <td>NaN</td>\n",
              "      <td>NaN</td>\n",
              "      <td>NaN</td>\n",
              "      <td>NaN</td>\n",
              "      <td>0.0</td>\n",
              "      <td>0.0</td>\n",
              "      <td>NaN</td>\n",
              "      <td>NaN</td>\n",
              "      <td>NaN</td>\n",
              "      <td>NaN</td>\n",
              "    </tr>\n",
              "    <tr>\n",
              "      <th>3</th>\n",
              "      <td>1076863</td>\n",
              "      <td>1277178</td>\n",
              "      <td>10000</td>\n",
              "      <td>10000</td>\n",
              "      <td>10000.0</td>\n",
              "      <td>36 months</td>\n",
              "      <td>13.49%</td>\n",
              "      <td>339.31</td>\n",
              "      <td>C</td>\n",
              "      <td>C1</td>\n",
              "      <td>...</td>\n",
              "      <td>NaN</td>\n",
              "      <td>NaN</td>\n",
              "      <td>NaN</td>\n",
              "      <td>NaN</td>\n",
              "      <td>0.0</td>\n",
              "      <td>0.0</td>\n",
              "      <td>NaN</td>\n",
              "      <td>NaN</td>\n",
              "      <td>NaN</td>\n",
              "      <td>NaN</td>\n",
              "    </tr>\n",
              "    <tr>\n",
              "      <th>4</th>\n",
              "      <td>1075358</td>\n",
              "      <td>1311748</td>\n",
              "      <td>3000</td>\n",
              "      <td>3000</td>\n",
              "      <td>3000.0</td>\n",
              "      <td>60 months</td>\n",
              "      <td>12.69%</td>\n",
              "      <td>67.79</td>\n",
              "      <td>B</td>\n",
              "      <td>B5</td>\n",
              "      <td>...</td>\n",
              "      <td>NaN</td>\n",
              "      <td>NaN</td>\n",
              "      <td>NaN</td>\n",
              "      <td>NaN</td>\n",
              "      <td>0.0</td>\n",
              "      <td>0.0</td>\n",
              "      <td>NaN</td>\n",
              "      <td>NaN</td>\n",
              "      <td>NaN</td>\n",
              "      <td>NaN</td>\n",
              "    </tr>\n",
              "  </tbody>\n",
              "</table>\n",
              "<p>5 rows × 111 columns</p>\n",
              "</div>\n",
              "      <button class=\"colab-df-convert\" onclick=\"convertToInteractive('df-1eec9fd9-d574-465a-8f81-c85809b9bc63')\"\n",
              "              title=\"Convert this dataframe to an interactive table.\"\n",
              "              style=\"display:none;\">\n",
              "        \n",
              "  <svg xmlns=\"http://www.w3.org/2000/svg\" height=\"24px\"viewBox=\"0 0 24 24\"\n",
              "       width=\"24px\">\n",
              "    <path d=\"M0 0h24v24H0V0z\" fill=\"none\"/>\n",
              "    <path d=\"M18.56 5.44l.94 2.06.94-2.06 2.06-.94-2.06-.94-.94-2.06-.94 2.06-2.06.94zm-11 1L8.5 8.5l.94-2.06 2.06-.94-2.06-.94L8.5 2.5l-.94 2.06-2.06.94zm10 10l.94 2.06.94-2.06 2.06-.94-2.06-.94-.94-2.06-.94 2.06-2.06.94z\"/><path d=\"M17.41 7.96l-1.37-1.37c-.4-.4-.92-.59-1.43-.59-.52 0-1.04.2-1.43.59L10.3 9.45l-7.72 7.72c-.78.78-.78 2.05 0 2.83L4 21.41c.39.39.9.59 1.41.59.51 0 1.02-.2 1.41-.59l7.78-7.78 2.81-2.81c.8-.78.8-2.07 0-2.86zM5.41 20L4 18.59l7.72-7.72 1.47 1.35L5.41 20z\"/>\n",
              "  </svg>\n",
              "      </button>\n",
              "      \n",
              "  <style>\n",
              "    .colab-df-container {\n",
              "      display:flex;\n",
              "      flex-wrap:wrap;\n",
              "      gap: 12px;\n",
              "    }\n",
              "\n",
              "    .colab-df-convert {\n",
              "      background-color: #E8F0FE;\n",
              "      border: none;\n",
              "      border-radius: 50%;\n",
              "      cursor: pointer;\n",
              "      display: none;\n",
              "      fill: #1967D2;\n",
              "      height: 32px;\n",
              "      padding: 0 0 0 0;\n",
              "      width: 32px;\n",
              "    }\n",
              "\n",
              "    .colab-df-convert:hover {\n",
              "      background-color: #E2EBFA;\n",
              "      box-shadow: 0px 1px 2px rgba(60, 64, 67, 0.3), 0px 1px 3px 1px rgba(60, 64, 67, 0.15);\n",
              "      fill: #174EA6;\n",
              "    }\n",
              "\n",
              "    [theme=dark] .colab-df-convert {\n",
              "      background-color: #3B4455;\n",
              "      fill: #D2E3FC;\n",
              "    }\n",
              "\n",
              "    [theme=dark] .colab-df-convert:hover {\n",
              "      background-color: #434B5C;\n",
              "      box-shadow: 0px 1px 3px 1px rgba(0, 0, 0, 0.15);\n",
              "      filter: drop-shadow(0px 1px 2px rgba(0, 0, 0, 0.3));\n",
              "      fill: #FFFFFF;\n",
              "    }\n",
              "  </style>\n",
              "\n",
              "      <script>\n",
              "        const buttonEl =\n",
              "          document.querySelector('#df-1eec9fd9-d574-465a-8f81-c85809b9bc63 button.colab-df-convert');\n",
              "        buttonEl.style.display =\n",
              "          google.colab.kernel.accessAllowed ? 'block' : 'none';\n",
              "\n",
              "        async function convertToInteractive(key) {\n",
              "          const element = document.querySelector('#df-1eec9fd9-d574-465a-8f81-c85809b9bc63');\n",
              "          const dataTable =\n",
              "            await google.colab.kernel.invokeFunction('convertToInteractive',\n",
              "                                                     [key], {});\n",
              "          if (!dataTable) return;\n",
              "\n",
              "          const docLinkHtml = 'Like what you see? Visit the ' +\n",
              "            '<a target=\"_blank\" href=https://colab.research.google.com/notebooks/data_table.ipynb>data table notebook</a>'\n",
              "            + ' to learn more about interactive tables.';\n",
              "          element.innerHTML = '';\n",
              "          dataTable['output_type'] = 'display_data';\n",
              "          await google.colab.output.renderOutput(dataTable, element);\n",
              "          const docLink = document.createElement('div');\n",
              "          docLink.innerHTML = docLinkHtml;\n",
              "          element.appendChild(docLink);\n",
              "        }\n",
              "      </script>\n",
              "    </div>\n",
              "  </div>\n",
              "  "
            ]
          },
          "metadata": {},
          "execution_count": 2
        }
      ],
      "source": [
        "# lets read the \"loan\" dataset, and see few rows in dataset\n",
        "\n",
        "loan = pd.read_csv('loan.csv')\n",
        "loan.head()"
      ]
    },
    {
      "cell_type": "code",
      "execution_count": 3,
      "metadata": {
        "colab": {
          "base_uri": "https://localhost:8080/"
        },
        "id": "Wet4_F6_ExxU",
        "outputId": "0bf43cd0-86f5-42d9-b991-f6981f1abe4a"
      },
      "outputs": [
        {
          "output_type": "stream",
          "name": "stdout",
          "text": [
            "<class 'pandas.core.frame.DataFrame'>\n",
            "RangeIndex: 39717 entries, 0 to 39716\n",
            "Columns: 111 entries, id to total_il_high_credit_limit\n",
            "dtypes: float64(74), int64(13), object(24)\n",
            "memory usage: 33.6+ MB\n"
          ]
        }
      ],
      "source": [
        "# lets check the dimensions of the loan Dataset, it contains 111 columns and 39717 rows \n",
        "\n",
        "loan.info()"
      ]
    },
    {
      "cell_type": "code",
      "execution_count": 4,
      "metadata": {
        "colab": {
          "base_uri": "https://localhost:8080/"
        },
        "id": "TP26-Xk8EykA",
        "outputId": "bcbc72d0-c484-4e64-c6ae-758be8387215"
      },
      "outputs": [
        {
          "output_type": "execute_result",
          "data": {
            "text/plain": [
              "Index(['id', 'member_id', 'loan_amnt', 'funded_amnt', 'funded_amnt_inv',\n",
              "       'term', 'int_rate', 'installment', 'grade', 'sub_grade',\n",
              "       ...\n",
              "       'num_tl_90g_dpd_24m', 'num_tl_op_past_12m', 'pct_tl_nvr_dlq',\n",
              "       'percent_bc_gt_75', 'pub_rec_bankruptcies', 'tax_liens',\n",
              "       'tot_hi_cred_lim', 'total_bal_ex_mort', 'total_bc_limit',\n",
              "       'total_il_high_credit_limit'],\n",
              "      dtype='object', length=111)"
            ]
          },
          "metadata": {},
          "execution_count": 4
        }
      ],
      "source": [
        "# lets see all column members\n",
        "\n",
        "loan.columns"
      ]
    },
    {
      "cell_type": "code",
      "execution_count": 5,
      "metadata": {
        "colab": {
          "base_uri": "https://localhost:8080/"
        },
        "id": "1Lb72qwV2gIy",
        "outputId": "11f99254-8923-466c-95f3-8ad9850e673b"
      },
      "outputs": [
        {
          "output_type": "execute_result",
          "data": {
            "text/plain": [
              "id                              int64\n",
              "member_id                       int64\n",
              "loan_amnt                       int64\n",
              "funded_amnt                     int64\n",
              "funded_amnt_inv               float64\n",
              "                               ...   \n",
              "tax_liens                     float64\n",
              "tot_hi_cred_lim               float64\n",
              "total_bal_ex_mort             float64\n",
              "total_bc_limit                float64\n",
              "total_il_high_credit_limit    float64\n",
              "Length: 111, dtype: object"
            ]
          },
          "metadata": {},
          "execution_count": 5
        }
      ],
      "source": [
        "loan.dtypes"
      ]
    },
    {
      "cell_type": "code",
      "execution_count": 6,
      "metadata": {
        "colab": {
          "base_uri": "https://localhost:8080/"
        },
        "id": "TzaxnOMkqqpp",
        "outputId": "2c5e14cd-f4ea-4759-811b-f17b0f30445c"
      },
      "outputs": [
        {
          "output_type": "execute_result",
          "data": {
            "text/plain": [
              "39717"
            ]
          },
          "metadata": {},
          "execution_count": 6
        }
      ],
      "source": [
        "len(loan.index)"
      ]
    },
    {
      "cell_type": "code",
      "execution_count": 6,
      "metadata": {
        "id": "D-E2Og52qqLw"
      },
      "outputs": [],
      "source": []
    },
    {
      "cell_type": "markdown",
      "metadata": {
        "id": "O8BhmbGmRGwN"
      },
      "source": [
        "## ***Data Cleaning***"
      ]
    },
    {
      "cell_type": "code",
      "execution_count": 7,
      "metadata": {
        "colab": {
          "base_uri": "https://localhost:8080/"
        },
        "id": "1Tx_PBfF_NeT",
        "outputId": "a2671ce8-830a-46fe-bce5-21649b7e8e82"
      },
      "outputs": [
        {
          "output_type": "execute_result",
          "data": {
            "text/plain": [
              "id                                0\n",
              "member_id                         0\n",
              "loan_amnt                         0\n",
              "funded_amnt                       0\n",
              "funded_amnt_inv                   0\n",
              "                              ...  \n",
              "tax_liens                        39\n",
              "tot_hi_cred_lim               39717\n",
              "total_bal_ex_mort             39717\n",
              "total_bc_limit                39717\n",
              "total_il_high_credit_limit    39717\n",
              "Length: 111, dtype: int64"
            ]
          },
          "metadata": {},
          "execution_count": 7
        }
      ],
      "source": [
        "# We can see many Columns in loan dataset are NA, data not available. lets remove those columns which are not usefull/ have no data\n",
        "\n",
        "loan.isnull().sum()"
      ]
    },
    {
      "cell_type": "code",
      "execution_count": 8,
      "metadata": {
        "colab": {
          "base_uri": "https://localhost:8080/"
        },
        "id": "Gk5vHB_r_sMW",
        "outputId": "b58af33b-4fa5-4d23-82ed-160c0c4d9575"
      },
      "outputs": [
        {
          "output_type": "execute_result",
          "data": {
            "text/plain": [
              "id                              0.000000\n",
              "member_id                       0.000000\n",
              "loan_amnt                       0.000000\n",
              "funded_amnt                     0.000000\n",
              "funded_amnt_inv                 0.000000\n",
              "                                 ...    \n",
              "tax_liens                       0.098195\n",
              "tot_hi_cred_lim               100.000000\n",
              "total_bal_ex_mort             100.000000\n",
              "total_bc_limit                100.000000\n",
              "total_il_high_credit_limit    100.000000\n",
              "Length: 111, dtype: float64"
            ]
          },
          "metadata": {},
          "execution_count": 8
        }
      ],
      "source": [
        "100*(loan.isnull().sum()/len(loan.index))"
      ]
    },
    {
      "cell_type": "code",
      "execution_count": 9,
      "metadata": {
        "colab": {
          "base_uri": "https://localhost:8080/"
        },
        "id": "dVhaFNCb_7to",
        "outputId": "70f3490d-72e6-4e2a-93f7-33eae7333f3a"
      },
      "outputs": [
        {
          "output_type": "stream",
          "name": "stdout",
          "text": [
            "Index(['mths_since_last_record', 'next_pymnt_d', 'mths_since_last_major_derog',\n",
            "       'annual_inc_joint', 'dti_joint', 'verification_status_joint',\n",
            "       'tot_coll_amt', 'tot_cur_bal', 'open_acc_6m', 'open_il_6m',\n",
            "       'open_il_12m', 'open_il_24m', 'mths_since_rcnt_il', 'total_bal_il',\n",
            "       'il_util', 'open_rv_12m', 'open_rv_24m', 'max_bal_bc', 'all_util',\n",
            "       'total_rev_hi_lim', 'inq_fi', 'total_cu_tl', 'inq_last_12m',\n",
            "       'acc_open_past_24mths', 'avg_cur_bal', 'bc_open_to_buy', 'bc_util',\n",
            "       'mo_sin_old_il_acct', 'mo_sin_old_rev_tl_op', 'mo_sin_rcnt_rev_tl_op',\n",
            "       'mo_sin_rcnt_tl', 'mort_acc', 'mths_since_recent_bc',\n",
            "       'mths_since_recent_bc_dlq', 'mths_since_recent_inq',\n",
            "       'mths_since_recent_revol_delinq', 'num_accts_ever_120_pd',\n",
            "       'num_actv_bc_tl', 'num_actv_rev_tl', 'num_bc_sats', 'num_bc_tl',\n",
            "       'num_il_tl', 'num_op_rev_tl', 'num_rev_accts', 'num_rev_tl_bal_gt_0',\n",
            "       'num_sats', 'num_tl_120dpd_2m', 'num_tl_30dpd', 'num_tl_90g_dpd_24m',\n",
            "       'num_tl_op_past_12m', 'pct_tl_nvr_dlq', 'percent_bc_gt_75',\n",
            "       'tot_hi_cred_lim', 'total_bal_ex_mort', 'total_bc_limit',\n",
            "       'total_il_high_credit_limit'],\n",
            "      dtype='object')\n"
          ]
        }
      ],
      "source": [
        "# find out missing columns which are having >90% missing data\n",
        "\n",
        "data_missing_columns = loan.columns[100*(loan.isnull().sum()/len(loan.index)) > 90]\n",
        "print(data_missing_columns)"
      ]
    },
    {
      "cell_type": "code",
      "execution_count": 10,
      "metadata": {
        "colab": {
          "base_uri": "https://localhost:8080/"
        },
        "id": "ebzx7P5aAUve",
        "outputId": "3083e62e-45a4-4ee8-d8bb-b919eb985c3d"
      },
      "outputs": [
        {
          "output_type": "execute_result",
          "data": {
            "text/plain": [
              "56"
            ]
          },
          "metadata": {},
          "execution_count": 10
        }
      ],
      "source": [
        "len(data_missing_columns)"
      ]
    },
    {
      "cell_type": "code",
      "execution_count": 11,
      "metadata": {
        "colab": {
          "base_uri": "https://localhost:8080/"
        },
        "id": "p3bQdTnF5vUe",
        "outputId": "3f4f41b0-f2e0-4c96-81aa-478caa5b3314"
      },
      "outputs": [
        {
          "output_type": "execute_result",
          "data": {
            "text/plain": [
              "['acc_open_past_24mths',\n",
              " 'all_util',\n",
              " 'annual_inc_joint',\n",
              " 'avg_cur_bal',\n",
              " 'bc_open_to_buy',\n",
              " 'bc_util',\n",
              " 'dti_joint',\n",
              " 'il_util',\n",
              " 'inq_fi',\n",
              " 'inq_last_12m',\n",
              " 'max_bal_bc',\n",
              " 'mo_sin_old_il_acct',\n",
              " 'mo_sin_old_rev_tl_op',\n",
              " 'mo_sin_rcnt_rev_tl_op',\n",
              " 'mo_sin_rcnt_tl',\n",
              " 'mort_acc',\n",
              " 'mths_since_last_major_derog',\n",
              " 'mths_since_last_record',\n",
              " 'mths_since_rcnt_il',\n",
              " 'mths_since_recent_bc',\n",
              " 'mths_since_recent_bc_dlq',\n",
              " 'mths_since_recent_inq',\n",
              " 'mths_since_recent_revol_delinq',\n",
              " 'next_pymnt_d',\n",
              " 'num_accts_ever_120_pd',\n",
              " 'num_actv_bc_tl',\n",
              " 'num_actv_rev_tl',\n",
              " 'num_bc_sats',\n",
              " 'num_bc_tl',\n",
              " 'num_il_tl',\n",
              " 'num_op_rev_tl',\n",
              " 'num_rev_accts',\n",
              " 'num_rev_tl_bal_gt_0',\n",
              " 'num_sats',\n",
              " 'num_tl_120dpd_2m',\n",
              " 'num_tl_30dpd',\n",
              " 'num_tl_90g_dpd_24m',\n",
              " 'num_tl_op_past_12m',\n",
              " 'open_acc_6m',\n",
              " 'open_il_12m',\n",
              " 'open_il_24m',\n",
              " 'open_il_6m',\n",
              " 'open_rv_12m',\n",
              " 'open_rv_24m',\n",
              " 'pct_tl_nvr_dlq',\n",
              " 'percent_bc_gt_75',\n",
              " 'tot_coll_amt',\n",
              " 'tot_cur_bal',\n",
              " 'tot_hi_cred_lim',\n",
              " 'total_bal_ex_mort',\n",
              " 'total_bal_il',\n",
              " 'total_bc_limit',\n",
              " 'total_cu_tl',\n",
              " 'total_il_high_credit_limit',\n",
              " 'total_rev_hi_lim',\n",
              " 'verification_status_joint']"
            ]
          },
          "metadata": {},
          "execution_count": 11
        }
      ],
      "source": [
        "# lets drop these missing columns which do not have >90% data \n",
        "\n",
        "missing_columns = [\n",
        "  \"acc_open_past_24mths\",\n",
        "  \"all_util\",\n",
        "  \"annual_inc_joint\",\n",
        "  \"avg_cur_bal\",\n",
        "  \"bc_open_to_buy\",\n",
        "  \"bc_util\",\n",
        "  \"dti_joint\",\n",
        "  \"il_util\",\n",
        "  \"inq_fi\",\n",
        "  \"inq_last_12m\",\n",
        "  \"max_bal_bc\",\n",
        "  \"mo_sin_old_il_acct\",\n",
        "  \"mo_sin_old_rev_tl_op\",\n",
        "  \"mo_sin_rcnt_rev_tl_op\",\n",
        "  \"mo_sin_rcnt_tl\",\n",
        "  \"mort_acc\",\n",
        "  \"mths_since_last_major_derog\",\n",
        "  \"mths_since_last_record\",\n",
        "  \"mths_since_rcnt_il\",\n",
        "  \"mths_since_recent_bc\",\n",
        "  \"mths_since_recent_bc_dlq\",\n",
        "  \"mths_since_recent_inq\",\n",
        "  \"mths_since_recent_revol_delinq\",\n",
        "  \"next_pymnt_d\",\n",
        "  \"num_accts_ever_120_pd\",\n",
        "  \"num_actv_bc_tl\",\n",
        "  \"num_actv_rev_tl\",\n",
        "  \"num_bc_sats\",\n",
        "  \"num_bc_tl\",\n",
        "  \"num_il_tl\",\n",
        "  \"num_op_rev_tl\",\n",
        "  \"num_rev_accts\",\n",
        "  \"num_rev_tl_bal_gt_0\",\n",
        "  \"num_sats\",\n",
        "  \"num_tl_120dpd_2m\",\n",
        "  \"num_tl_30dpd\",\n",
        "  \"num_tl_90g_dpd_24m\",\n",
        "  \"num_tl_op_past_12m\",\n",
        "  \"open_acc_6m\",\n",
        "  \"open_il_12m\",\n",
        "  \"open_il_24m\",\n",
        "  \"open_il_6m\",\n",
        "  \"open_rv_12m\",\n",
        "  \"open_rv_24m\",\n",
        "  \"pct_tl_nvr_dlq\",\n",
        "  \"percent_bc_gt_75\",\n",
        "  \"tot_coll_amt\",\n",
        "  \"tot_cur_bal\",\n",
        "  \"tot_hi_cred_lim\",\n",
        "  \"total_bal_ex_mort\",\n",
        "  \"total_bal_il\",\n",
        "  \"total_bc_limit\",\n",
        "  \"total_cu_tl\",\n",
        "  \"total_il_high_credit_limit\",\n",
        "  \"total_rev_hi_lim\",\n",
        "  \"verification_status_joint\"\n",
        "]\n",
        "missing_columns"
      ]
    },
    {
      "cell_type": "code",
      "execution_count": 12,
      "metadata": {
        "colab": {
          "base_uri": "https://localhost:8080/"
        },
        "id": "b8ZNsHUt5vOB",
        "outputId": "4591b4c0-0f79-45ca-9b58-3b42e77f2bad"
      },
      "outputs": [
        {
          "output_type": "stream",
          "name": "stdout",
          "text": [
            "<class 'pandas.core.frame.DataFrame'>\n",
            "RangeIndex: 39717 entries, 0 to 39716\n",
            "Data columns (total 55 columns):\n",
            " #   Column                      Non-Null Count  Dtype  \n",
            "---  ------                      --------------  -----  \n",
            " 0   id                          39717 non-null  int64  \n",
            " 1   member_id                   39717 non-null  int64  \n",
            " 2   loan_amnt                   39717 non-null  int64  \n",
            " 3   funded_amnt                 39717 non-null  int64  \n",
            " 4   funded_amnt_inv             39717 non-null  float64\n",
            " 5   term                        39717 non-null  object \n",
            " 6   int_rate                    39717 non-null  object \n",
            " 7   installment                 39717 non-null  float64\n",
            " 8   grade                       39717 non-null  object \n",
            " 9   sub_grade                   39717 non-null  object \n",
            " 10  emp_title                   37258 non-null  object \n",
            " 11  emp_length                  38642 non-null  object \n",
            " 12  home_ownership              39717 non-null  object \n",
            " 13  annual_inc                  39717 non-null  float64\n",
            " 14  verification_status         39717 non-null  object \n",
            " 15  issue_d                     39717 non-null  object \n",
            " 16  loan_status                 39717 non-null  object \n",
            " 17  pymnt_plan                  39717 non-null  object \n",
            " 18  url                         39717 non-null  object \n",
            " 19  desc                        26777 non-null  object \n",
            " 20  purpose                     39717 non-null  object \n",
            " 21  title                       39706 non-null  object \n",
            " 22  zip_code                    39717 non-null  object \n",
            " 23  addr_state                  39717 non-null  object \n",
            " 24  dti                         39717 non-null  float64\n",
            " 25  delinq_2yrs                 39717 non-null  int64  \n",
            " 26  earliest_cr_line            39717 non-null  object \n",
            " 27  inq_last_6mths              39717 non-null  int64  \n",
            " 28  mths_since_last_delinq      14035 non-null  float64\n",
            " 29  open_acc                    39717 non-null  int64  \n",
            " 30  pub_rec                     39717 non-null  int64  \n",
            " 31  revol_bal                   39717 non-null  int64  \n",
            " 32  revol_util                  39667 non-null  object \n",
            " 33  total_acc                   39717 non-null  int64  \n",
            " 34  initial_list_status         39717 non-null  object \n",
            " 35  out_prncp                   39717 non-null  float64\n",
            " 36  out_prncp_inv               39717 non-null  float64\n",
            " 37  total_pymnt                 39717 non-null  float64\n",
            " 38  total_pymnt_inv             39717 non-null  float64\n",
            " 39  total_rec_prncp             39717 non-null  float64\n",
            " 40  total_rec_int               39717 non-null  float64\n",
            " 41  total_rec_late_fee          39717 non-null  float64\n",
            " 42  recoveries                  39717 non-null  float64\n",
            " 43  collection_recovery_fee     39717 non-null  float64\n",
            " 44  last_pymnt_d                39646 non-null  object \n",
            " 45  last_pymnt_amnt             39717 non-null  float64\n",
            " 46  last_credit_pull_d          39715 non-null  object \n",
            " 47  collections_12_mths_ex_med  39661 non-null  float64\n",
            " 48  policy_code                 39717 non-null  int64  \n",
            " 49  application_type            39717 non-null  object \n",
            " 50  acc_now_delinq              39717 non-null  int64  \n",
            " 51  chargeoff_within_12_mths    39661 non-null  float64\n",
            " 52  delinq_amnt                 39717 non-null  int64  \n",
            " 53  pub_rec_bankruptcies        39020 non-null  float64\n",
            " 54  tax_liens                   39678 non-null  float64\n",
            "dtypes: float64(19), int64(13), object(23)\n",
            "memory usage: 16.7+ MB\n"
          ]
        }
      ],
      "source": [
        "loans_df = loan.drop(missing_columns, axis = 1)\n",
        "loans_df.info()"
      ]
    },
    {
      "cell_type": "code",
      "execution_count": 13,
      "metadata": {
        "colab": {
          "base_uri": "https://localhost:8080/"
        },
        "id": "N754DL2A5vHK",
        "outputId": "fcc3cd3d-20ab-48da-f487-21f5c75bbf04"
      },
      "outputs": [
        {
          "output_type": "execute_result",
          "data": {
            "text/plain": [
              "(39717, 55)"
            ]
          },
          "metadata": {},
          "execution_count": 13
        }
      ],
      "source": [
        "loans_df.shape"
      ]
    },
    {
      "cell_type": "code",
      "execution_count": 14,
      "metadata": {
        "colab": {
          "base_uri": "https://localhost:8080/"
        },
        "id": "45cktESJ5u-n",
        "outputId": "9ff264c3-8b8d-4149-81ad-2fbfa73f18a5"
      },
      "outputs": [
        {
          "output_type": "execute_result",
          "data": {
            "text/plain": [
              "4"
            ]
          },
          "metadata": {},
          "execution_count": 14
        }
      ],
      "source": [
        "# checking whether any rows in dataset have more than 5 missing values, there are 4 rows which have > 5 missing values \n",
        "\n",
        "len(loans_df[loans_df.isnull().sum(axis=1) > 5].index)"
      ]
    },
    {
      "cell_type": "code",
      "execution_count": 15,
      "metadata": {
        "colab": {
          "base_uri": "https://localhost:8080/"
        },
        "id": "RB1QTEvV9y0d",
        "outputId": "ac1d4bfb-7e19-4e20-9a03-cfbe574d6dd7"
      },
      "outputs": [
        {
          "output_type": "execute_result",
          "data": {
            "text/plain": [
              "Int64Index([39659, 39660, 39714, 39715], dtype='int64')"
            ]
          },
          "metadata": {},
          "execution_count": 15
        }
      ],
      "source": [
        "# lets fnd out which are those rows\n",
        "\n",
        "loans_df[loans_df.isnull().sum(axis=1) > 5].index"
      ]
    },
    {
      "cell_type": "code",
      "execution_count": 16,
      "metadata": {
        "id": "58_LIuV377K4"
      },
      "outputs": [],
      "source": [
        "# Rows from numbers 39659, 39660, 39714, 39715 have >5 missing values in them, lets delete these rows\n",
        "\n",
        "loans_df = loans_df.drop(loans_df.index[[39659, 39660, 39714, 39715]])"
      ]
    },
    {
      "cell_type": "code",
      "execution_count": 17,
      "metadata": {
        "colab": {
          "base_uri": "https://localhost:8080/"
        },
        "id": "c4FrY1Ef8Zph",
        "outputId": "b1e84b1d-ab4c-4bd4-9a8d-34a8c4058eb4"
      },
      "outputs": [
        {
          "output_type": "execute_result",
          "data": {
            "text/plain": [
              "0"
            ]
          },
          "metadata": {},
          "execution_count": 17
        }
      ],
      "source": [
        "# lets verify for >5 missing values in rows in dataset\n",
        "\n",
        "len(loans_df[loans_df.isnull().sum(axis=1) > 5].index)"
      ]
    },
    {
      "cell_type": "code",
      "execution_count": 18,
      "metadata": {
        "colab": {
          "base_uri": "https://localhost:8080/"
        },
        "id": "8XDg92rT8jW5",
        "outputId": "90462057-2496-410f-c88b-bae648adf2c4"
      },
      "outputs": [
        {
          "output_type": "execute_result",
          "data": {
            "text/plain": [
              "(39713, 55)"
            ]
          },
          "metadata": {},
          "execution_count": 18
        }
      ],
      "source": [
        "loans_df.shape"
      ]
    },
    {
      "cell_type": "markdown",
      "metadata": {
        "id": "tHTsYvMN9-we"
      },
      "source": [
        "We can segregate these 55 columns into two types of attributes: 1. *Consumer attributes* and 2. *Loan attributes*\n",
        "\n",
        "**Consumer attributes**: 1. id, 2. member_id, 3. emp_title, 4. emp_length, 5. addr_state, 6. zip_code, 7. home_ownership, 8. annual_inc, 9. total_acc, 10. open_acc, 11. pub_rec, 12. earliest_cr_line, 13. inq_last_6mths, 14. dti, 15. delinq_2yrs, 16. tax_liens\n",
        "\n",
        "**Loan attributes**: 1. acc_now_delinq, 2. application_type, 3. chargeoff_within_12_mths, 4. collection_recovery_fee, 5. collections_12_mths_ex_med, 6. delinq_amnt, 7. desc, 8. funded_amnt, 9. funded_amnt_inv, 10. grade, 11. initial_list_status, 12. installment, 13. int_rate, 14. issue_d, 15. last_credit_pull_d, 16. last_pymnt_amnt, 17. last_pymnt_d, 18. loan_amnt, 19. loan_status, 20. mths_since_last_delinq, 21. out_prncp, 22. out_prncp_inv, 23. policy_code, 24. pub_rec_bankruptcies, 25. purpose, 26. pymnt_plan, 27. recoveries, 28. revol_bal, 29. revol_util, 30. sub_grade, 31. term, 32. title, 33. total_pymnt, 34. total_pymnt_inv, 35. total_rec_int, 36. total_rec_late_fee, 37. total_rec_prncp, 38. url 39. verification_status\n"
      ]
    },
    {
      "cell_type": "markdown",
      "metadata": {
        "id": "wef9FIyeDHGV"
      },
      "source": [
        "**Once we pick up unique identifier of Consumer from Consumer attributes and leave remaining and on further cleaning of Loan attributes** by getting rid of attributes like 'desc', 'url', 'sub_grade' we can use below resulted attributes only:\n",
        "1.  member_id,\n",
        "2. acc_now_delinq,\n",
        "3. application_type,\n",
        "4. chargeoff_within_12_mths,\n",
        "5. collection_recovery_fee,\n",
        "6. collections_12_mths_ex_med,\n",
        "7. delinq_amnt,\n",
        "8. funded_amnt, \n",
        "9. funded_amnt_inv,\n",
        "10. grade,\n",
        "11. initial_list_status,\n",
        "12. installment,\n",
        "13. int_rate,\n",
        "14. issue_d,\n",
        "15. last_credit_pull_d,\n",
        "16. last_pymnt_amnt,\n",
        "17. last_pymnt_d,\n",
        "18. loan_amnt,\n",
        "19. loan_status,\n",
        "20. mths_since_last_delinq,\n",
        "21. out_prncp,\n",
        "22. out_prncp_inv,\n",
        "23. policy_code,\n",
        "24. pub_rec_bankruptcies,\n",
        "25. purpose,\n",
        "26. pymnt_plan,\n",
        "27. recoveries,\n",
        "28. revol_bal,\n",
        "29. revol_util,\n",
        "30. term,\n",
        "31. title,\n",
        "32. total_pymnt,\n",
        "33. total_pymnt_inv,\n",
        "34. total_rec_int,\n",
        "35. total_rec_late_fee,\n",
        "36. total_rec_prncp     and\n",
        "37. verification_status"
      ]
    },
    {
      "cell_type": "code",
      "execution_count": 19,
      "metadata": {
        "colab": {
          "base_uri": "https://localhost:8080/"
        },
        "id": "3wIipZaoC9mp",
        "outputId": "81497ae4-d412-4824-dfcd-c7a1d778dcab"
      },
      "outputs": [
        {
          "output_type": "execute_result",
          "data": {
            "text/plain": [
              "['id',\n",
              " 'emp_title',\n",
              " 'emp_length',\n",
              " 'addr_state',\n",
              " 'zip_code',\n",
              " 'home_ownership',\n",
              " 'annual_inc',\n",
              " 'total_acc',\n",
              " 'open_acc',\n",
              " 'pub_rec',\n",
              " 'earliest_cr_line',\n",
              " 'inq_last_6mths',\n",
              " 'dti',\n",
              " 'delinq_2yrs',\n",
              " 'tax_liens']"
            ]
          },
          "metadata": {},
          "execution_count": 19
        }
      ],
      "source": [
        "# lets drop Consumer attributes leaving only 'member_id' attribute\n",
        "\n",
        "consumer_attributes = [\n",
        "  \"id\",\n",
        "  \"emp_title\",\n",
        "  \"emp_length\",\n",
        "  \"addr_state\",\n",
        "  \"zip_code\",\n",
        "  \"home_ownership\",\n",
        "  \"annual_inc\",\n",
        "  \"total_acc\",\n",
        "  \"open_acc\",\n",
        "  \"pub_rec\",\n",
        "  \"earliest_cr_line\",\n",
        "  \"inq_last_6mths\",\n",
        "  \"dti\",\n",
        "  \"delinq_2yrs\",\n",
        "  \"tax_liens\"\n",
        "]\n",
        "consumer_attributes"
      ]
    },
    {
      "cell_type": "code",
      "execution_count": 20,
      "metadata": {
        "colab": {
          "base_uri": "https://localhost:8080/"
        },
        "id": "hpEESk26IERA",
        "outputId": "d4f98008-a112-4a10-a9ae-8f7c65fe7695"
      },
      "outputs": [
        {
          "output_type": "stream",
          "name": "stdout",
          "text": [
            "<class 'pandas.core.frame.DataFrame'>\n",
            "Int64Index: 39713 entries, 0 to 39716\n",
            "Data columns (total 40 columns):\n",
            " #   Column                      Non-Null Count  Dtype  \n",
            "---  ------                      --------------  -----  \n",
            " 0   member_id                   39713 non-null  int64  \n",
            " 1   loan_amnt                   39713 non-null  int64  \n",
            " 2   funded_amnt                 39713 non-null  int64  \n",
            " 3   funded_amnt_inv             39713 non-null  float64\n",
            " 4   term                        39713 non-null  object \n",
            " 5   int_rate                    39713 non-null  object \n",
            " 6   installment                 39713 non-null  float64\n",
            " 7   grade                       39713 non-null  object \n",
            " 8   sub_grade                   39713 non-null  object \n",
            " 9   verification_status         39713 non-null  object \n",
            " 10  issue_d                     39713 non-null  object \n",
            " 11  loan_status                 39713 non-null  object \n",
            " 12  pymnt_plan                  39713 non-null  object \n",
            " 13  url                         39713 non-null  object \n",
            " 14  desc                        26775 non-null  object \n",
            " 15  purpose                     39713 non-null  object \n",
            " 16  title                       39702 non-null  object \n",
            " 17  mths_since_last_delinq      14033 non-null  float64\n",
            " 18  revol_bal                   39713 non-null  int64  \n",
            " 19  revol_util                  39663 non-null  object \n",
            " 20  initial_list_status         39713 non-null  object \n",
            " 21  out_prncp                   39713 non-null  float64\n",
            " 22  out_prncp_inv               39713 non-null  float64\n",
            " 23  total_pymnt                 39713 non-null  float64\n",
            " 24  total_pymnt_inv             39713 non-null  float64\n",
            " 25  total_rec_prncp             39713 non-null  float64\n",
            " 26  total_rec_int               39713 non-null  float64\n",
            " 27  total_rec_late_fee          39713 non-null  float64\n",
            " 28  recoveries                  39713 non-null  float64\n",
            " 29  collection_recovery_fee     39713 non-null  float64\n",
            " 30  last_pymnt_d                39642 non-null  object \n",
            " 31  last_pymnt_amnt             39713 non-null  float64\n",
            " 32  last_credit_pull_d          39711 non-null  object \n",
            " 33  collections_12_mths_ex_med  39661 non-null  float64\n",
            " 34  policy_code                 39713 non-null  int64  \n",
            " 35  application_type            39713 non-null  object \n",
            " 36  acc_now_delinq              39713 non-null  int64  \n",
            " 37  chargeoff_within_12_mths    39661 non-null  float64\n",
            " 38  delinq_amnt                 39713 non-null  int64  \n",
            " 39  pub_rec_bankruptcies        39020 non-null  float64\n",
            "dtypes: float64(16), int64(7), object(17)\n",
            "memory usage: 12.4+ MB\n"
          ]
        }
      ],
      "source": [
        "loans_df = loans_df.drop(consumer_attributes, axis = 1)\n",
        "loans_df.info()"
      ]
    },
    {
      "cell_type": "code",
      "execution_count": 21,
      "metadata": {
        "colab": {
          "base_uri": "https://localhost:8080/"
        },
        "id": "6rA3fViYIEL0",
        "outputId": "4773c8f4-359c-43d1-e0d6-3462a1333021"
      },
      "outputs": [
        {
          "output_type": "execute_result",
          "data": {
            "text/plain": [
              "(39713, 40)"
            ]
          },
          "metadata": {},
          "execution_count": 21
        }
      ],
      "source": [
        "loans_df.shape"
      ]
    },
    {
      "cell_type": "code",
      "execution_count": 22,
      "metadata": {
        "id": "psLleT6gfKG8",
        "outputId": "821b21f1-d765-41c8-8ec3-f262bad997e9",
        "colab": {
          "base_uri": "https://localhost:8080/"
        }
      },
      "outputs": [
        {
          "output_type": "execute_result",
          "data": {
            "text/plain": [
              "['desc', 'url', 'sub_grade']"
            ]
          },
          "metadata": {},
          "execution_count": 22
        }
      ],
      "source": [
        "# lets drop Loan attributes 'desc', 'url', 'sub_grade'\n",
        "\n",
        "consumer_attributes = [\n",
        "    \"desc\",\n",
        "    \"url\",\n",
        "    \"sub_grade\",\n",
        "]\n",
        "consumer_attributes"
      ]
    },
    {
      "cell_type": "code",
      "execution_count": 23,
      "metadata": {
        "id": "eoLqQARGfKG8",
        "outputId": "39c672a3-b257-4a66-b734-bd95dfd70e5d",
        "colab": {
          "base_uri": "https://localhost:8080/"
        }
      },
      "outputs": [
        {
          "output_type": "stream",
          "name": "stdout",
          "text": [
            "<class 'pandas.core.frame.DataFrame'>\n",
            "Int64Index: 39713 entries, 0 to 39716\n",
            "Data columns (total 37 columns):\n",
            " #   Column                      Non-Null Count  Dtype  \n",
            "---  ------                      --------------  -----  \n",
            " 0   member_id                   39713 non-null  int64  \n",
            " 1   loan_amnt                   39713 non-null  int64  \n",
            " 2   funded_amnt                 39713 non-null  int64  \n",
            " 3   funded_amnt_inv             39713 non-null  float64\n",
            " 4   term                        39713 non-null  object \n",
            " 5   int_rate                    39713 non-null  object \n",
            " 6   installment                 39713 non-null  float64\n",
            " 7   grade                       39713 non-null  object \n",
            " 8   verification_status         39713 non-null  object \n",
            " 9   issue_d                     39713 non-null  object \n",
            " 10  loan_status                 39713 non-null  object \n",
            " 11  pymnt_plan                  39713 non-null  object \n",
            " 12  purpose                     39713 non-null  object \n",
            " 13  title                       39702 non-null  object \n",
            " 14  mths_since_last_delinq      14033 non-null  float64\n",
            " 15  revol_bal                   39713 non-null  int64  \n",
            " 16  revol_util                  39663 non-null  object \n",
            " 17  initial_list_status         39713 non-null  object \n",
            " 18  out_prncp                   39713 non-null  float64\n",
            " 19  out_prncp_inv               39713 non-null  float64\n",
            " 20  total_pymnt                 39713 non-null  float64\n",
            " 21  total_pymnt_inv             39713 non-null  float64\n",
            " 22  total_rec_prncp             39713 non-null  float64\n",
            " 23  total_rec_int               39713 non-null  float64\n",
            " 24  total_rec_late_fee          39713 non-null  float64\n",
            " 25  recoveries                  39713 non-null  float64\n",
            " 26  collection_recovery_fee     39713 non-null  float64\n",
            " 27  last_pymnt_d                39642 non-null  object \n",
            " 28  last_pymnt_amnt             39713 non-null  float64\n",
            " 29  last_credit_pull_d          39711 non-null  object \n",
            " 30  collections_12_mths_ex_med  39661 non-null  float64\n",
            " 31  policy_code                 39713 non-null  int64  \n",
            " 32  application_type            39713 non-null  object \n",
            " 33  acc_now_delinq              39713 non-null  int64  \n",
            " 34  chargeoff_within_12_mths    39661 non-null  float64\n",
            " 35  delinq_amnt                 39713 non-null  int64  \n",
            " 36  pub_rec_bankruptcies        39020 non-null  float64\n",
            "dtypes: float64(16), int64(7), object(14)\n",
            "memory usage: 11.5+ MB\n"
          ]
        }
      ],
      "source": [
        "loans_df = loans_df.drop(consumer_attributes, axis = 1)\n",
        "loans_df.info()"
      ]
    },
    {
      "cell_type": "markdown",
      "metadata": {
        "id": "Xn0ThZJlJ-Y1"
      },
      "source": [
        "## ***Data Analysis***\n",
        "\n",
        "### Now, lets see the Deciding factors for loan approval:\n",
        "\n",
        "For this, Consumers 'loan_status' has to be in 'Fully Paid' or in 'Charged Off' status, we can not determine a good Consumer if his/ her 'loan_status' is current (means Consumer is still paying back the Loan amont) and 'chargeoff_within_12_mths' attribute has to be 0"
      ]
    },
    {
      "cell_type": "code",
      "execution_count": 24,
      "metadata": {
        "colab": {
          "base_uri": "https://localhost:8080/"
        },
        "id": "42pz8yJgC7-G",
        "outputId": "f82dabfa-b5b5-4a6d-ae9a-b34965300746"
      },
      "outputs": [
        {
          "output_type": "execute_result",
          "data": {
            "text/plain": [
              "0         Fully Paid\n",
              "1        Charged Off\n",
              "2         Fully Paid\n",
              "3         Fully Paid\n",
              "4            Current\n",
              "            ...     \n",
              "39710     Fully Paid\n",
              "39711     Fully Paid\n",
              "39712     Fully Paid\n",
              "39713     Fully Paid\n",
              "39716     Fully Paid\n",
              "Name: loan_status, Length: 39713, dtype: object"
            ]
          },
          "metadata": {},
          "execution_count": 24
        }
      ],
      "source": [
        "loans_df['loan_status']"
      ]
    },
    {
      "cell_type": "code",
      "execution_count": 25,
      "metadata": {
        "colab": {
          "base_uri": "https://localhost:8080/"
        },
        "id": "iyMMlQXbKq2J",
        "outputId": "d3d6404a-d8fa-4733-86bd-70943ef9dc6c"
      },
      "outputs": [
        {
          "output_type": "execute_result",
          "data": {
            "text/plain": [
              "Fully Paid     32946\n",
              "Charged Off     5627\n",
              "Current         1140\n",
              "Name: loan_status, dtype: int64"
            ]
          },
          "metadata": {},
          "execution_count": 25
        }
      ],
      "source": [
        "loans_df['loan_status'].value_counts()"
      ]
    },
    {
      "cell_type": "markdown",
      "metadata": {
        "id": "F3GRSXViMvk5"
      },
      "source": [
        "We can observe most of the loans are Fully paid, the loans which have loan_status = Current are neither fully paid nor defaulted, lets "
      ]
    },
    {
      "cell_type": "code",
      "execution_count": 26,
      "metadata": {
        "colab": {
          "base_uri": "https://localhost:8080/",
          "height": 386
        },
        "id": "CwJuqbl4KxiI",
        "outputId": "87a4d100-c8ef-4e69-85b4-fea3a03eee4c"
      },
      "outputs": [
        {
          "output_type": "execute_result",
          "data": {
            "text/plain": [
              "   member_id  loan_amnt  funded_amnt  funded_amnt_inv        term int_rate  \\\n",
              "0    1296599       5000         5000           4975.0   36 months   10.65%   \n",
              "1    1314167       2500         2500           2500.0   60 months   15.27%   \n",
              "2    1313524       2400         2400           2400.0   36 months   15.96%   \n",
              "3    1277178      10000        10000          10000.0   36 months   13.49%   \n",
              "5    1311441       5000         5000           5000.0   36 months    7.90%   \n",
              "\n",
              "   installment grade verification_status issue_d  ... last_pymnt_d  \\\n",
              "0       162.87     B            Verified  Dec-11  ...       Jan-15   \n",
              "1        59.83     C     Source Verified  Dec-11  ...       Apr-13   \n",
              "2        84.33     C        Not Verified  Dec-11  ...       Jun-14   \n",
              "3       339.31     C     Source Verified  Dec-11  ...       Jan-15   \n",
              "5       156.46     A     Source Verified  Dec-11  ...       Jan-15   \n",
              "\n",
              "  last_pymnt_amnt last_credit_pull_d collections_12_mths_ex_med  policy_code  \\\n",
              "0          171.62             May-16                        0.0            1   \n",
              "1          119.66             Sep-13                        0.0            1   \n",
              "2          649.91             May-16                        0.0            1   \n",
              "3          357.48             Apr-16                        0.0            1   \n",
              "5          161.03             Jan-16                        0.0            1   \n",
              "\n",
              "   application_type acc_now_delinq chargeoff_within_12_mths  delinq_amnt  \\\n",
              "0        INDIVIDUAL              0                      0.0            0   \n",
              "1        INDIVIDUAL              0                      0.0            0   \n",
              "2        INDIVIDUAL              0                      0.0            0   \n",
              "3        INDIVIDUAL              0                      0.0            0   \n",
              "5        INDIVIDUAL              0                      0.0            0   \n",
              "\n",
              "   pub_rec_bankruptcies  \n",
              "0                   0.0  \n",
              "1                   0.0  \n",
              "2                   0.0  \n",
              "3                   0.0  \n",
              "5                   0.0  \n",
              "\n",
              "[5 rows x 37 columns]"
            ],
            "text/html": [
              "\n",
              "  <div id=\"df-ac02a601-23ef-4370-85ff-e021bfacd334\">\n",
              "    <div class=\"colab-df-container\">\n",
              "      <div>\n",
              "<style scoped>\n",
              "    .dataframe tbody tr th:only-of-type {\n",
              "        vertical-align: middle;\n",
              "    }\n",
              "\n",
              "    .dataframe tbody tr th {\n",
              "        vertical-align: top;\n",
              "    }\n",
              "\n",
              "    .dataframe thead th {\n",
              "        text-align: right;\n",
              "    }\n",
              "</style>\n",
              "<table border=\"1\" class=\"dataframe\">\n",
              "  <thead>\n",
              "    <tr style=\"text-align: right;\">\n",
              "      <th></th>\n",
              "      <th>member_id</th>\n",
              "      <th>loan_amnt</th>\n",
              "      <th>funded_amnt</th>\n",
              "      <th>funded_amnt_inv</th>\n",
              "      <th>term</th>\n",
              "      <th>int_rate</th>\n",
              "      <th>installment</th>\n",
              "      <th>grade</th>\n",
              "      <th>verification_status</th>\n",
              "      <th>issue_d</th>\n",
              "      <th>...</th>\n",
              "      <th>last_pymnt_d</th>\n",
              "      <th>last_pymnt_amnt</th>\n",
              "      <th>last_credit_pull_d</th>\n",
              "      <th>collections_12_mths_ex_med</th>\n",
              "      <th>policy_code</th>\n",
              "      <th>application_type</th>\n",
              "      <th>acc_now_delinq</th>\n",
              "      <th>chargeoff_within_12_mths</th>\n",
              "      <th>delinq_amnt</th>\n",
              "      <th>pub_rec_bankruptcies</th>\n",
              "    </tr>\n",
              "  </thead>\n",
              "  <tbody>\n",
              "    <tr>\n",
              "      <th>0</th>\n",
              "      <td>1296599</td>\n",
              "      <td>5000</td>\n",
              "      <td>5000</td>\n",
              "      <td>4975.0</td>\n",
              "      <td>36 months</td>\n",
              "      <td>10.65%</td>\n",
              "      <td>162.87</td>\n",
              "      <td>B</td>\n",
              "      <td>Verified</td>\n",
              "      <td>Dec-11</td>\n",
              "      <td>...</td>\n",
              "      <td>Jan-15</td>\n",
              "      <td>171.62</td>\n",
              "      <td>May-16</td>\n",
              "      <td>0.0</td>\n",
              "      <td>1</td>\n",
              "      <td>INDIVIDUAL</td>\n",
              "      <td>0</td>\n",
              "      <td>0.0</td>\n",
              "      <td>0</td>\n",
              "      <td>0.0</td>\n",
              "    </tr>\n",
              "    <tr>\n",
              "      <th>1</th>\n",
              "      <td>1314167</td>\n",
              "      <td>2500</td>\n",
              "      <td>2500</td>\n",
              "      <td>2500.0</td>\n",
              "      <td>60 months</td>\n",
              "      <td>15.27%</td>\n",
              "      <td>59.83</td>\n",
              "      <td>C</td>\n",
              "      <td>Source Verified</td>\n",
              "      <td>Dec-11</td>\n",
              "      <td>...</td>\n",
              "      <td>Apr-13</td>\n",
              "      <td>119.66</td>\n",
              "      <td>Sep-13</td>\n",
              "      <td>0.0</td>\n",
              "      <td>1</td>\n",
              "      <td>INDIVIDUAL</td>\n",
              "      <td>0</td>\n",
              "      <td>0.0</td>\n",
              "      <td>0</td>\n",
              "      <td>0.0</td>\n",
              "    </tr>\n",
              "    <tr>\n",
              "      <th>2</th>\n",
              "      <td>1313524</td>\n",
              "      <td>2400</td>\n",
              "      <td>2400</td>\n",
              "      <td>2400.0</td>\n",
              "      <td>36 months</td>\n",
              "      <td>15.96%</td>\n",
              "      <td>84.33</td>\n",
              "      <td>C</td>\n",
              "      <td>Not Verified</td>\n",
              "      <td>Dec-11</td>\n",
              "      <td>...</td>\n",
              "      <td>Jun-14</td>\n",
              "      <td>649.91</td>\n",
              "      <td>May-16</td>\n",
              "      <td>0.0</td>\n",
              "      <td>1</td>\n",
              "      <td>INDIVIDUAL</td>\n",
              "      <td>0</td>\n",
              "      <td>0.0</td>\n",
              "      <td>0</td>\n",
              "      <td>0.0</td>\n",
              "    </tr>\n",
              "    <tr>\n",
              "      <th>3</th>\n",
              "      <td>1277178</td>\n",
              "      <td>10000</td>\n",
              "      <td>10000</td>\n",
              "      <td>10000.0</td>\n",
              "      <td>36 months</td>\n",
              "      <td>13.49%</td>\n",
              "      <td>339.31</td>\n",
              "      <td>C</td>\n",
              "      <td>Source Verified</td>\n",
              "      <td>Dec-11</td>\n",
              "      <td>...</td>\n",
              "      <td>Jan-15</td>\n",
              "      <td>357.48</td>\n",
              "      <td>Apr-16</td>\n",
              "      <td>0.0</td>\n",
              "      <td>1</td>\n",
              "      <td>INDIVIDUAL</td>\n",
              "      <td>0</td>\n",
              "      <td>0.0</td>\n",
              "      <td>0</td>\n",
              "      <td>0.0</td>\n",
              "    </tr>\n",
              "    <tr>\n",
              "      <th>5</th>\n",
              "      <td>1311441</td>\n",
              "      <td>5000</td>\n",
              "      <td>5000</td>\n",
              "      <td>5000.0</td>\n",
              "      <td>36 months</td>\n",
              "      <td>7.90%</td>\n",
              "      <td>156.46</td>\n",
              "      <td>A</td>\n",
              "      <td>Source Verified</td>\n",
              "      <td>Dec-11</td>\n",
              "      <td>...</td>\n",
              "      <td>Jan-15</td>\n",
              "      <td>161.03</td>\n",
              "      <td>Jan-16</td>\n",
              "      <td>0.0</td>\n",
              "      <td>1</td>\n",
              "      <td>INDIVIDUAL</td>\n",
              "      <td>0</td>\n",
              "      <td>0.0</td>\n",
              "      <td>0</td>\n",
              "      <td>0.0</td>\n",
              "    </tr>\n",
              "  </tbody>\n",
              "</table>\n",
              "<p>5 rows × 37 columns</p>\n",
              "</div>\n",
              "      <button class=\"colab-df-convert\" onclick=\"convertToInteractive('df-ac02a601-23ef-4370-85ff-e021bfacd334')\"\n",
              "              title=\"Convert this dataframe to an interactive table.\"\n",
              "              style=\"display:none;\">\n",
              "        \n",
              "  <svg xmlns=\"http://www.w3.org/2000/svg\" height=\"24px\"viewBox=\"0 0 24 24\"\n",
              "       width=\"24px\">\n",
              "    <path d=\"M0 0h24v24H0V0z\" fill=\"none\"/>\n",
              "    <path d=\"M18.56 5.44l.94 2.06.94-2.06 2.06-.94-2.06-.94-.94-2.06-.94 2.06-2.06.94zm-11 1L8.5 8.5l.94-2.06 2.06-.94-2.06-.94L8.5 2.5l-.94 2.06-2.06.94zm10 10l.94 2.06.94-2.06 2.06-.94-2.06-.94-.94-2.06-.94 2.06-2.06.94z\"/><path d=\"M17.41 7.96l-1.37-1.37c-.4-.4-.92-.59-1.43-.59-.52 0-1.04.2-1.43.59L10.3 9.45l-7.72 7.72c-.78.78-.78 2.05 0 2.83L4 21.41c.39.39.9.59 1.41.59.51 0 1.02-.2 1.41-.59l7.78-7.78 2.81-2.81c.8-.78.8-2.07 0-2.86zM5.41 20L4 18.59l7.72-7.72 1.47 1.35L5.41 20z\"/>\n",
              "  </svg>\n",
              "      </button>\n",
              "      \n",
              "  <style>\n",
              "    .colab-df-container {\n",
              "      display:flex;\n",
              "      flex-wrap:wrap;\n",
              "      gap: 12px;\n",
              "    }\n",
              "\n",
              "    .colab-df-convert {\n",
              "      background-color: #E8F0FE;\n",
              "      border: none;\n",
              "      border-radius: 50%;\n",
              "      cursor: pointer;\n",
              "      display: none;\n",
              "      fill: #1967D2;\n",
              "      height: 32px;\n",
              "      padding: 0 0 0 0;\n",
              "      width: 32px;\n",
              "    }\n",
              "\n",
              "    .colab-df-convert:hover {\n",
              "      background-color: #E2EBFA;\n",
              "      box-shadow: 0px 1px 2px rgba(60, 64, 67, 0.3), 0px 1px 3px 1px rgba(60, 64, 67, 0.15);\n",
              "      fill: #174EA6;\n",
              "    }\n",
              "\n",
              "    [theme=dark] .colab-df-convert {\n",
              "      background-color: #3B4455;\n",
              "      fill: #D2E3FC;\n",
              "    }\n",
              "\n",
              "    [theme=dark] .colab-df-convert:hover {\n",
              "      background-color: #434B5C;\n",
              "      box-shadow: 0px 1px 3px 1px rgba(0, 0, 0, 0.15);\n",
              "      filter: drop-shadow(0px 1px 2px rgba(0, 0, 0, 0.3));\n",
              "      fill: #FFFFFF;\n",
              "    }\n",
              "  </style>\n",
              "\n",
              "      <script>\n",
              "        const buttonEl =\n",
              "          document.querySelector('#df-ac02a601-23ef-4370-85ff-e021bfacd334 button.colab-df-convert');\n",
              "        buttonEl.style.display =\n",
              "          google.colab.kernel.accessAllowed ? 'block' : 'none';\n",
              "\n",
              "        async function convertToInteractive(key) {\n",
              "          const element = document.querySelector('#df-ac02a601-23ef-4370-85ff-e021bfacd334');\n",
              "          const dataTable =\n",
              "            await google.colab.kernel.invokeFunction('convertToInteractive',\n",
              "                                                     [key], {});\n",
              "          if (!dataTable) return;\n",
              "\n",
              "          const docLinkHtml = 'Like what you see? Visit the ' +\n",
              "            '<a target=\"_blank\" href=https://colab.research.google.com/notebooks/data_table.ipynb>data table notebook</a>'\n",
              "            + ' to learn more about interactive tables.';\n",
              "          element.innerHTML = '';\n",
              "          dataTable['output_type'] = 'display_data';\n",
              "          await google.colab.output.renderOutput(dataTable, element);\n",
              "          const docLink = document.createElement('div');\n",
              "          docLink.innerHTML = docLinkHtml;\n",
              "          element.appendChild(docLink);\n",
              "        }\n",
              "      </script>\n",
              "    </div>\n",
              "  </div>\n",
              "  "
            ]
          },
          "metadata": {},
          "execution_count": 26
        }
      ],
      "source": [
        "loans_df = loans_df[loans_df['loan_status'] != 'Current']\n",
        "loans_df.head()"
      ]
    },
    {
      "cell_type": "code",
      "execution_count": 27,
      "metadata": {
        "colab": {
          "base_uri": "https://localhost:8080/",
          "height": 386
        },
        "id": "HgyXnnBjNaUF",
        "outputId": "5427122d-7008-4b92-d854-7b800842b8a3"
      },
      "outputs": [
        {
          "output_type": "execute_result",
          "data": {
            "text/plain": [
              "   member_id  loan_amnt  funded_amnt  funded_amnt_inv        term int_rate  \\\n",
              "0    1296599       5000         5000           4975.0   36 months   10.65%   \n",
              "1    1314167       2500         2500           2500.0   60 months   15.27%   \n",
              "2    1313524       2400         2400           2400.0   36 months   15.96%   \n",
              "3    1277178      10000        10000          10000.0   36 months   13.49%   \n",
              "5    1311441       5000         5000           5000.0   36 months    7.90%   \n",
              "\n",
              "   installment grade verification_status issue_d  ... last_pymnt_d  \\\n",
              "0       162.87     B            Verified  Dec-11  ...       Jan-15   \n",
              "1        59.83     C     Source Verified  Dec-11  ...       Apr-13   \n",
              "2        84.33     C        Not Verified  Dec-11  ...       Jun-14   \n",
              "3       339.31     C     Source Verified  Dec-11  ...       Jan-15   \n",
              "5       156.46     A     Source Verified  Dec-11  ...       Jan-15   \n",
              "\n",
              "  last_pymnt_amnt last_credit_pull_d collections_12_mths_ex_med  policy_code  \\\n",
              "0          171.62             May-16                        0.0            1   \n",
              "1          119.66             Sep-13                        0.0            1   \n",
              "2          649.91             May-16                        0.0            1   \n",
              "3          357.48             Apr-16                        0.0            1   \n",
              "5          161.03             Jan-16                        0.0            1   \n",
              "\n",
              "   application_type acc_now_delinq chargeoff_within_12_mths  delinq_amnt  \\\n",
              "0        INDIVIDUAL              0                      0.0            0   \n",
              "1        INDIVIDUAL              0                      0.0            0   \n",
              "2        INDIVIDUAL              0                      0.0            0   \n",
              "3        INDIVIDUAL              0                      0.0            0   \n",
              "5        INDIVIDUAL              0                      0.0            0   \n",
              "\n",
              "   pub_rec_bankruptcies  \n",
              "0                   0.0  \n",
              "1                   0.0  \n",
              "2                   0.0  \n",
              "3                   0.0  \n",
              "5                   0.0  \n",
              "\n",
              "[5 rows x 37 columns]"
            ],
            "text/html": [
              "\n",
              "  <div id=\"df-f20f775a-585a-4300-afaa-4eb759bb9759\">\n",
              "    <div class=\"colab-df-container\">\n",
              "      <div>\n",
              "<style scoped>\n",
              "    .dataframe tbody tr th:only-of-type {\n",
              "        vertical-align: middle;\n",
              "    }\n",
              "\n",
              "    .dataframe tbody tr th {\n",
              "        vertical-align: top;\n",
              "    }\n",
              "\n",
              "    .dataframe thead th {\n",
              "        text-align: right;\n",
              "    }\n",
              "</style>\n",
              "<table border=\"1\" class=\"dataframe\">\n",
              "  <thead>\n",
              "    <tr style=\"text-align: right;\">\n",
              "      <th></th>\n",
              "      <th>member_id</th>\n",
              "      <th>loan_amnt</th>\n",
              "      <th>funded_amnt</th>\n",
              "      <th>funded_amnt_inv</th>\n",
              "      <th>term</th>\n",
              "      <th>int_rate</th>\n",
              "      <th>installment</th>\n",
              "      <th>grade</th>\n",
              "      <th>verification_status</th>\n",
              "      <th>issue_d</th>\n",
              "      <th>...</th>\n",
              "      <th>last_pymnt_d</th>\n",
              "      <th>last_pymnt_amnt</th>\n",
              "      <th>last_credit_pull_d</th>\n",
              "      <th>collections_12_mths_ex_med</th>\n",
              "      <th>policy_code</th>\n",
              "      <th>application_type</th>\n",
              "      <th>acc_now_delinq</th>\n",
              "      <th>chargeoff_within_12_mths</th>\n",
              "      <th>delinq_amnt</th>\n",
              "      <th>pub_rec_bankruptcies</th>\n",
              "    </tr>\n",
              "  </thead>\n",
              "  <tbody>\n",
              "    <tr>\n",
              "      <th>0</th>\n",
              "      <td>1296599</td>\n",
              "      <td>5000</td>\n",
              "      <td>5000</td>\n",
              "      <td>4975.0</td>\n",
              "      <td>36 months</td>\n",
              "      <td>10.65%</td>\n",
              "      <td>162.87</td>\n",
              "      <td>B</td>\n",
              "      <td>Verified</td>\n",
              "      <td>Dec-11</td>\n",
              "      <td>...</td>\n",
              "      <td>Jan-15</td>\n",
              "      <td>171.62</td>\n",
              "      <td>May-16</td>\n",
              "      <td>0.0</td>\n",
              "      <td>1</td>\n",
              "      <td>INDIVIDUAL</td>\n",
              "      <td>0</td>\n",
              "      <td>0.0</td>\n",
              "      <td>0</td>\n",
              "      <td>0.0</td>\n",
              "    </tr>\n",
              "    <tr>\n",
              "      <th>1</th>\n",
              "      <td>1314167</td>\n",
              "      <td>2500</td>\n",
              "      <td>2500</td>\n",
              "      <td>2500.0</td>\n",
              "      <td>60 months</td>\n",
              "      <td>15.27%</td>\n",
              "      <td>59.83</td>\n",
              "      <td>C</td>\n",
              "      <td>Source Verified</td>\n",
              "      <td>Dec-11</td>\n",
              "      <td>...</td>\n",
              "      <td>Apr-13</td>\n",
              "      <td>119.66</td>\n",
              "      <td>Sep-13</td>\n",
              "      <td>0.0</td>\n",
              "      <td>1</td>\n",
              "      <td>INDIVIDUAL</td>\n",
              "      <td>0</td>\n",
              "      <td>0.0</td>\n",
              "      <td>0</td>\n",
              "      <td>0.0</td>\n",
              "    </tr>\n",
              "    <tr>\n",
              "      <th>2</th>\n",
              "      <td>1313524</td>\n",
              "      <td>2400</td>\n",
              "      <td>2400</td>\n",
              "      <td>2400.0</td>\n",
              "      <td>36 months</td>\n",
              "      <td>15.96%</td>\n",
              "      <td>84.33</td>\n",
              "      <td>C</td>\n",
              "      <td>Not Verified</td>\n",
              "      <td>Dec-11</td>\n",
              "      <td>...</td>\n",
              "      <td>Jun-14</td>\n",
              "      <td>649.91</td>\n",
              "      <td>May-16</td>\n",
              "      <td>0.0</td>\n",
              "      <td>1</td>\n",
              "      <td>INDIVIDUAL</td>\n",
              "      <td>0</td>\n",
              "      <td>0.0</td>\n",
              "      <td>0</td>\n",
              "      <td>0.0</td>\n",
              "    </tr>\n",
              "    <tr>\n",
              "      <th>3</th>\n",
              "      <td>1277178</td>\n",
              "      <td>10000</td>\n",
              "      <td>10000</td>\n",
              "      <td>10000.0</td>\n",
              "      <td>36 months</td>\n",
              "      <td>13.49%</td>\n",
              "      <td>339.31</td>\n",
              "      <td>C</td>\n",
              "      <td>Source Verified</td>\n",
              "      <td>Dec-11</td>\n",
              "      <td>...</td>\n",
              "      <td>Jan-15</td>\n",
              "      <td>357.48</td>\n",
              "      <td>Apr-16</td>\n",
              "      <td>0.0</td>\n",
              "      <td>1</td>\n",
              "      <td>INDIVIDUAL</td>\n",
              "      <td>0</td>\n",
              "      <td>0.0</td>\n",
              "      <td>0</td>\n",
              "      <td>0.0</td>\n",
              "    </tr>\n",
              "    <tr>\n",
              "      <th>5</th>\n",
              "      <td>1311441</td>\n",
              "      <td>5000</td>\n",
              "      <td>5000</td>\n",
              "      <td>5000.0</td>\n",
              "      <td>36 months</td>\n",
              "      <td>7.90%</td>\n",
              "      <td>156.46</td>\n",
              "      <td>A</td>\n",
              "      <td>Source Verified</td>\n",
              "      <td>Dec-11</td>\n",
              "      <td>...</td>\n",
              "      <td>Jan-15</td>\n",
              "      <td>161.03</td>\n",
              "      <td>Jan-16</td>\n",
              "      <td>0.0</td>\n",
              "      <td>1</td>\n",
              "      <td>INDIVIDUAL</td>\n",
              "      <td>0</td>\n",
              "      <td>0.0</td>\n",
              "      <td>0</td>\n",
              "      <td>0.0</td>\n",
              "    </tr>\n",
              "  </tbody>\n",
              "</table>\n",
              "<p>5 rows × 37 columns</p>\n",
              "</div>\n",
              "      <button class=\"colab-df-convert\" onclick=\"convertToInteractive('df-f20f775a-585a-4300-afaa-4eb759bb9759')\"\n",
              "              title=\"Convert this dataframe to an interactive table.\"\n",
              "              style=\"display:none;\">\n",
              "        \n",
              "  <svg xmlns=\"http://www.w3.org/2000/svg\" height=\"24px\"viewBox=\"0 0 24 24\"\n",
              "       width=\"24px\">\n",
              "    <path d=\"M0 0h24v24H0V0z\" fill=\"none\"/>\n",
              "    <path d=\"M18.56 5.44l.94 2.06.94-2.06 2.06-.94-2.06-.94-.94-2.06-.94 2.06-2.06.94zm-11 1L8.5 8.5l.94-2.06 2.06-.94-2.06-.94L8.5 2.5l-.94 2.06-2.06.94zm10 10l.94 2.06.94-2.06 2.06-.94-2.06-.94-.94-2.06-.94 2.06-2.06.94z\"/><path d=\"M17.41 7.96l-1.37-1.37c-.4-.4-.92-.59-1.43-.59-.52 0-1.04.2-1.43.59L10.3 9.45l-7.72 7.72c-.78.78-.78 2.05 0 2.83L4 21.41c.39.39.9.59 1.41.59.51 0 1.02-.2 1.41-.59l7.78-7.78 2.81-2.81c.8-.78.8-2.07 0-2.86zM5.41 20L4 18.59l7.72-7.72 1.47 1.35L5.41 20z\"/>\n",
              "  </svg>\n",
              "      </button>\n",
              "      \n",
              "  <style>\n",
              "    .colab-df-container {\n",
              "      display:flex;\n",
              "      flex-wrap:wrap;\n",
              "      gap: 12px;\n",
              "    }\n",
              "\n",
              "    .colab-df-convert {\n",
              "      background-color: #E8F0FE;\n",
              "      border: none;\n",
              "      border-radius: 50%;\n",
              "      cursor: pointer;\n",
              "      display: none;\n",
              "      fill: #1967D2;\n",
              "      height: 32px;\n",
              "      padding: 0 0 0 0;\n",
              "      width: 32px;\n",
              "    }\n",
              "\n",
              "    .colab-df-convert:hover {\n",
              "      background-color: #E2EBFA;\n",
              "      box-shadow: 0px 1px 2px rgba(60, 64, 67, 0.3), 0px 1px 3px 1px rgba(60, 64, 67, 0.15);\n",
              "      fill: #174EA6;\n",
              "    }\n",
              "\n",
              "    [theme=dark] .colab-df-convert {\n",
              "      background-color: #3B4455;\n",
              "      fill: #D2E3FC;\n",
              "    }\n",
              "\n",
              "    [theme=dark] .colab-df-convert:hover {\n",
              "      background-color: #434B5C;\n",
              "      box-shadow: 0px 1px 3px 1px rgba(0, 0, 0, 0.15);\n",
              "      filter: drop-shadow(0px 1px 2px rgba(0, 0, 0, 0.3));\n",
              "      fill: #FFFFFF;\n",
              "    }\n",
              "  </style>\n",
              "\n",
              "      <script>\n",
              "        const buttonEl =\n",
              "          document.querySelector('#df-f20f775a-585a-4300-afaa-4eb759bb9759 button.colab-df-convert');\n",
              "        buttonEl.style.display =\n",
              "          google.colab.kernel.accessAllowed ? 'block' : 'none';\n",
              "\n",
              "        async function convertToInteractive(key) {\n",
              "          const element = document.querySelector('#df-f20f775a-585a-4300-afaa-4eb759bb9759');\n",
              "          const dataTable =\n",
              "            await google.colab.kernel.invokeFunction('convertToInteractive',\n",
              "                                                     [key], {});\n",
              "          if (!dataTable) return;\n",
              "\n",
              "          const docLinkHtml = 'Like what you see? Visit the ' +\n",
              "            '<a target=\"_blank\" href=https://colab.research.google.com/notebooks/data_table.ipynb>data table notebook</a>'\n",
              "            + ' to learn more about interactive tables.';\n",
              "          element.innerHTML = '';\n",
              "          dataTable['output_type'] = 'display_data';\n",
              "          await google.colab.output.renderOutput(dataTable, element);\n",
              "          const docLink = document.createElement('div');\n",
              "          docLink.innerHTML = docLinkHtml;\n",
              "          element.appendChild(docLink);\n",
              "        }\n",
              "      </script>\n",
              "    </div>\n",
              "  </div>\n",
              "  "
            ]
          },
          "metadata": {},
          "execution_count": 27
        }
      ],
      "source": [
        "loans_df = loans_df[loans_df['chargeoff_within_12_mths'] == 0]\n",
        "loans_df.head()"
      ]
    },
    {
      "cell_type": "code",
      "execution_count": 28,
      "metadata": {
        "id": "zADTBHAQPf0A",
        "outputId": "c46fbe0d-99cd-4920-df70-21cddb2cec4a",
        "colab": {
          "base_uri": "https://localhost:8080/"
        }
      },
      "outputs": [
        {
          "output_type": "execute_result",
          "data": {
            "text/plain": [
              "(38521, 37)"
            ]
          },
          "metadata": {},
          "execution_count": 28
        }
      ],
      "source": [
        "loans_df.shape"
      ]
    },
    {
      "cell_type": "code",
      "execution_count": 29,
      "metadata": {
        "id": "sjbxTdaQfKG-"
      },
      "outputs": [],
      "source": [
        "loans_df_final = loans_df.reset_index()"
      ]
    },
    {
      "cell_type": "code",
      "execution_count": 30,
      "metadata": {
        "id": "r8V9MU8VQQs8",
        "outputId": "ab2929cc-4d50-4450-f74f-3527b4ad5405",
        "colab": {
          "base_uri": "https://localhost:8080/"
        }
      },
      "outputs": [
        {
          "output_type": "stream",
          "name": "stdout",
          "text": [
            "<class 'pandas.core.frame.DataFrame'>\n",
            "RangeIndex: 38521 entries, 0 to 38520\n",
            "Data columns (total 38 columns):\n",
            " #   Column                      Non-Null Count  Dtype  \n",
            "---  ------                      --------------  -----  \n",
            " 0   index                       38521 non-null  int64  \n",
            " 1   member_id                   38521 non-null  int64  \n",
            " 2   loan_amnt                   38521 non-null  int64  \n",
            " 3   funded_amnt                 38521 non-null  int64  \n",
            " 4   funded_amnt_inv             38521 non-null  float64\n",
            " 5   term                        38521 non-null  object \n",
            " 6   int_rate                    38521 non-null  object \n",
            " 7   installment                 38521 non-null  float64\n",
            " 8   grade                       38521 non-null  object \n",
            " 9   verification_status         38521 non-null  object \n",
            " 10  issue_d                     38521 non-null  object \n",
            " 11  loan_status                 38521 non-null  object \n",
            " 12  pymnt_plan                  38521 non-null  object \n",
            " 13  purpose                     38521 non-null  object \n",
            " 14  title                       38510 non-null  object \n",
            " 15  mths_since_last_delinq      13622 non-null  float64\n",
            " 16  revol_bal                   38521 non-null  int64  \n",
            " 17  revol_util                  38471 non-null  object \n",
            " 18  initial_list_status         38521 non-null  object \n",
            " 19  out_prncp                   38521 non-null  float64\n",
            " 20  out_prncp_inv               38521 non-null  float64\n",
            " 21  total_pymnt                 38521 non-null  float64\n",
            " 22  total_pymnt_inv             38521 non-null  float64\n",
            " 23  total_rec_prncp             38521 non-null  float64\n",
            " 24  total_rec_int               38521 non-null  float64\n",
            " 25  total_rec_late_fee          38521 non-null  float64\n",
            " 26  recoveries                  38521 non-null  float64\n",
            " 27  collection_recovery_fee     38521 non-null  float64\n",
            " 28  last_pymnt_d                38450 non-null  object \n",
            " 29  last_pymnt_amnt             38521 non-null  float64\n",
            " 30  last_credit_pull_d          38519 non-null  object \n",
            " 31  collections_12_mths_ex_med  38521 non-null  float64\n",
            " 32  policy_code                 38521 non-null  int64  \n",
            " 33  application_type            38521 non-null  object \n",
            " 34  acc_now_delinq              38521 non-null  int64  \n",
            " 35  chargeoff_within_12_mths    38521 non-null  float64\n",
            " 36  delinq_amnt                 38521 non-null  int64  \n",
            " 37  pub_rec_bankruptcies        37878 non-null  float64\n",
            "dtypes: float64(16), int64(8), object(14)\n",
            "memory usage: 11.2+ MB\n"
          ]
        }
      ],
      "source": [
        "loans_df_final.info()"
      ]
    },
    {
      "cell_type": "markdown",
      "source": [
        "## **Lets draft the plots for Univariate and Bivariate Analysis**\n",
        "\n"
      ],
      "metadata": {
        "id": "XTf_5gM7I9LU"
      }
    },
    {
      "cell_type": "markdown",
      "source": [
        "## ***Univariate Analysis - Histograms***"
      ],
      "metadata": {
        "id": "0YSYbLIwOJuq"
      }
    },
    {
      "cell_type": "code",
      "execution_count": 31,
      "metadata": {
        "id": "s2ftfahufKG_",
        "colab": {
          "base_uri": "https://localhost:8080/",
          "height": 467
        },
        "outputId": "1bd24d07-b699-40f6-facd-9ef20ca3d0c8"
      },
      "outputs": [
        {
          "output_type": "execute_result",
          "data": {
            "text/plain": [
              "<Axes: xlabel='loan_amnt', ylabel='Count'>"
            ]
          },
          "metadata": {},
          "execution_count": 31
        },
        {
          "output_type": "display_data",
          "data": {
            "text/plain": [
              "<Figure size 640x480 with 1 Axes>"
            ],
            "image/png": "[encoded data removed]"
          },
          "metadata": {}
        }
      ],
      "source": [
        "sns.histplot(loans_df_final[\"loan_amnt\"])"
      ]
    },
    {
      "cell_type": "code",
      "execution_count": 32,
      "metadata": {
        "colab": {
          "base_uri": "https://localhost:8080/",
          "height": 467
        },
        "id": "ABHtU1AjDa_0",
        "outputId": "c58615a6-1b2c-46bf-d4f5-d2640e1edfe3"
      },
      "outputs": [
        {
          "output_type": "execute_result",
          "data": {
            "text/plain": [
              "<Axes: xlabel='funded_amnt', ylabel='Count'>"
            ]
          },
          "metadata": {},
          "execution_count": 32
        },
        {
          "output_type": "display_data",
          "data": {
            "text/plain": [
              "<Figure size 640x480 with 1 Axes>"
            ],
            "image/png": "[encoded data removed]"
          },
          "metadata": {}
        }
      ],
      "source": [
        "sns.histplot(loans_df_final[\"funded_amnt\"])"
      ]
    },
    {
      "cell_type": "code",
      "execution_count": 33,
      "metadata": {
        "colab": {
          "base_uri": "https://localhost:8080/",
          "height": 467
        },
        "id": "3c2vRATyDa_1",
        "outputId": "68e2af79-aa28-415b-fc05-d451fc233533"
      },
      "outputs": [
        {
          "output_type": "execute_result",
          "data": {
            "text/plain": [
              "<Axes: xlabel='funded_amnt_inv', ylabel='Count'>"
            ]
          },
          "metadata": {},
          "execution_count": 33
        },
        {
          "output_type": "display_data",
          "data": {
            "text/plain": [
              "<Figure size 640x480 with 1 Axes>"
            ],
            "image/png": "[encoded data removed]"
          },
          "metadata": {}
        }
      ],
      "source": [
        "sns.histplot(loans_df_final[\"funded_amnt_inv\"])"
      ]
    },
    {
      "cell_type": "code",
      "execution_count": 34,
      "metadata": {
        "colab": {
          "base_uri": "https://localhost:8080/",
          "height": 466
        },
        "id": "6mrsBhjSDa_2",
        "outputId": "959b8058-64a9-403b-842b-780398322e18"
      },
      "outputs": [
        {
          "output_type": "execute_result",
          "data": {
            "text/plain": [
              "<Axes: xlabel='term', ylabel='Count'>"
            ]
          },
          "metadata": {},
          "execution_count": 34
        },
        {
          "output_type": "display_data",
          "data": {
            "text/plain": [
              "<Figure size 640x480 with 1 Axes>"
            ],
            "image/png": "[encoded data removed]"
          },
          "metadata": {}
        }
      ],
      "source": [
        "sns.histplot(loans_df_final[\"term\"])"
      ]
    },
    {
      "cell_type": "code",
      "execution_count": 35,
      "metadata": {
        "colab": {
          "base_uri": "https://localhost:8080/",
          "height": 467
        },
        "id": "Ln2PzUxhDa_3",
        "outputId": "8096cab7-3f43-47ba-bda1-6da8fa93ba8e"
      },
      "outputs": [
        {
          "output_type": "execute_result",
          "data": {
            "text/plain": [
              "<Axes: xlabel='int_rate', ylabel='Count'>"
            ]
          },
          "metadata": {},
          "execution_count": 35
        },
        {
          "output_type": "display_data",
          "data": {
            "text/plain": [
              "<Figure size 640x480 with 1 Axes>"
            ],
            "image/png": "[encoded data removed]"
          },
          "metadata": {}
        }
      ],
      "source": [
        "sns.histplot(loans_df_final[\"int_rate\"], bins=[0,1,2,3,4,5]) #,10,15,20,25])"
      ]
    },
    {
      "cell_type": "code",
      "execution_count": 36,
      "metadata": {
        "colab": {
          "base_uri": "https://localhost:8080/",
          "height": 467
        },
        "id": "hll0j3OFDa_3",
        "outputId": "774aa758-272d-4dc0-d152-88e5dd19d200"
      },
      "outputs": [
        {
          "output_type": "execute_result",
          "data": {
            "text/plain": [
              "<Axes: xlabel='verification_status', ylabel='Count'>"
            ]
          },
          "metadata": {},
          "execution_count": 36
        },
        {
          "output_type": "display_data",
          "data": {
            "text/plain": [
              "<Figure size 640x480 with 1 Axes>"
            ],
            "image/png": "[encoded data removed]"
          },
          "metadata": {}
        }
      ],
      "source": [
        "sns.histplot(loans_df_final[\"verification_status\"])"
      ]
    },
    {
      "cell_type": "code",
      "execution_count": 37,
      "metadata": {
        "colab": {
          "base_uri": "https://localhost:8080/",
          "height": 467
        },
        "id": "MCtXHVWnDa_4",
        "outputId": "edd3e764-18f4-434b-c27a-a413f6157526"
      },
      "outputs": [
        {
          "output_type": "execute_result",
          "data": {
            "text/plain": [
              "<Axes: xlabel='loan_status', ylabel='Count'>"
            ]
          },
          "metadata": {},
          "execution_count": 37
        },
        {
          "output_type": "display_data",
          "data": {
            "text/plain": [
              "<Figure size 640x480 with 1 Axes>"
            ],
            "image/png": "[encoded data removed]"
          },
          "metadata": {}
        }
      ],
      "source": [
        "sns.histplot(loans_df_final[\"loan_status\"])"
      ]
    },
    {
      "cell_type": "code",
      "execution_count": 38,
      "metadata": {
        "id": "toW835MWDa_4"
      },
      "outputs": [],
      "source": [
        "cont_cols = [\n",
        "    \"loan_amnt\", \"funded_amnt\", \"funded_amnt_inv\", \"int_rate\", \"verification_status\", \"loan_status\"\n",
        "]"
      ]
    },
    {
      "cell_type": "code",
      "execution_count": 39,
      "metadata": {
        "colab": {
          "base_uri": "https://localhost:8080/",
          "height": 1000
        },
        "id": "gK_IGuTHDa_5",
        "outputId": "6a532a9e-1405-437e-b004-0bece6d0dbf1"
      },
      "outputs": [
        {
          "output_type": "display_data",
          "data": {
            "text/plain": [
              "<Figure size 640x480 with 1 Axes>"
            ],
            "image/png": "[encoded data removed]"
          },
          "metadata": {}
        },
        {
          "output_type": "display_data",
          "data": {
            "text/plain": [
              "<Figure size 640x480 with 1 Axes>"
            ],
            "image/png": "[encoded data removed]"
          },
          "metadata": {}
        },
        {
          "output_type": "display_data",
          "data": {
            "text/plain": [
              "<Figure size 640x480 with 1 Axes>"
            ],
            "image/png": "[encoded data removed]"
          },
          "metadata": {}
        },
        {
          "output_type": "display_data",
          "data": {
            "text/plain": [
              "<Figure size 640x480 with 1 Axes>"
            ],
            "image/png": "[encoded data removed]"
          },
          "metadata": {}
        },
        {
          "output_type": "display_data",
          "data": {
            "text/plain": [
              "<Figure size 640x480 with 1 Axes>"
            ],
            "image/png": "[encoded data removed]"
          },
          "metadata": {}
        },
        {
          "output_type": "display_data",
          "data": {
            "text/plain": [
              "<Figure size 640x480 with 1 Axes>"
            ],
            "image/png": "[encoded data removed]"
          },
          "metadata": {}
        }
      ],
      "source": [
        "for i in cont_cols:\n",
        "    sns.histplot(loans_df_final[i])\n",
        "    plt.title(\"Frequency Distribution of \"+i)\n",
        "    plt.xlabel(i)\n",
        "    plt.ylabel(\"Count\")\n",
        "    plt.xticks(rotation=45)\n",
        "    plt.show()"
      ]
    },
    {
      "cell_type": "markdown",
      "source": [
        "## ***Univariate Analysis - Boxplots***"
      ],
      "metadata": {
        "id": "2-SYmGpEOayZ"
      }
    },
    {
      "cell_type": "code",
      "execution_count": 40,
      "metadata": {
        "colab": {
          "base_uri": "https://localhost:8080/",
          "height": 447
        },
        "id": "hyDPq3JODa_8",
        "outputId": "c5013845-5cea-421b-a550-997a1754d538"
      },
      "outputs": [
        {
          "output_type": "execute_result",
          "data": {
            "text/plain": [
              "<Axes: >"
            ]
          },
          "metadata": {},
          "execution_count": 40
        },
        {
          "output_type": "display_data",
          "data": {
            "text/plain": [
              "<Figure size 640x480 with 1 Axes>"
            ],
            "image/png": "[encoded data removed]"
          },
          "metadata": {}
        }
      ],
      "source": [
        "sns.boxplot(loans_df_final[\"loan_amnt\"])"
      ]
    },
    {
      "cell_type": "code",
      "execution_count": 41,
      "metadata": {
        "colab": {
          "base_uri": "https://localhost:8080/",
          "height": 447
        },
        "id": "SbiT6RRLDa_9",
        "outputId": "0dada5a1-97d4-4a24-ce1b-19fb7aca2c8d"
      },
      "outputs": [
        {
          "output_type": "execute_result",
          "data": {
            "text/plain": [
              "<Axes: >"
            ]
          },
          "metadata": {},
          "execution_count": 41
        },
        {
          "output_type": "display_data",
          "data": {
            "text/plain": [
              "<Figure size 640x480 with 1 Axes>"
            ],
            "image/png": "[encoded data removed]"
          },
          "metadata": {}
        }
      ],
      "source": [
        "sns.boxplot(loans_df_final[\"funded_amnt\"])"
      ]
    },
    {
      "cell_type": "code",
      "execution_count": 42,
      "metadata": {
        "colab": {
          "base_uri": "https://localhost:8080/",
          "height": 447
        },
        "id": "c76dkWorDa_-",
        "outputId": "ff546056-f1fa-44f4-db42-5f9ed6bedd76"
      },
      "outputs": [
        {
          "output_type": "execute_result",
          "data": {
            "text/plain": [
              "<Axes: >"
            ]
          },
          "metadata": {},
          "execution_count": 42
        },
        {
          "output_type": "display_data",
          "data": {
            "text/plain": [
              "<Figure size 640x480 with 1 Axes>"
            ],
            "image/png": "[encoded data removed]"
          },
          "metadata": {}
        }
      ],
      "source": [
        "sns.boxplot(loans_df_final[\"funded_amnt_inv\"])"
      ]
    },
    {
      "cell_type": "markdown",
      "metadata": {
        "id": "KbYO5vqdfKG-"
      },
      "source": [
        "## ***Recommendations***\n",
        "\n",
        "### These 32,521 Consumers could be considered to provide loans."
      ]
    },
    {
      "cell_type": "code",
      "execution_count": 43,
      "metadata": {
        "id": "0fAM0BKnfKG-",
        "outputId": "eba2f982-8e5e-43d5-9118-b1eab0ca439e",
        "colab": {
          "base_uri": "https://localhost:8080/",
          "height": 661
        }
      },
      "outputs": [
        {
          "output_type": "execute_result",
          "data": {
            "text/plain": [
              "       index  member_id  loan_amnt  funded_amnt  funded_amnt_inv        term  \\\n",
              "0          0    1296599       5000         5000           4975.0   36 months   \n",
              "1          1    1314167       2500         2500           2500.0   60 months   \n",
              "2          2    1313524       2400         2400           2400.0   36 months   \n",
              "3          3    1277178      10000        10000          10000.0   36 months   \n",
              "4          5    1311441       5000         5000           5000.0   36 months   \n",
              "...      ...        ...        ...          ...              ...         ...   \n",
              "38516  39661     121527       3000         3000           2225.0   36 months   \n",
              "38517  39662     121423       3000         3000           2975.0   36 months   \n",
              "38518  39663     120227       4000         4000           1475.0   36 months   \n",
              "38519  39664     119635       2000         2000            475.0   36 months   \n",
              "38520  39665     118760       4000         4000           3575.0   36 months   \n",
              "\n",
              "      int_rate  installment grade verification_status  ... last_pymnt_d  \\\n",
              "0       10.65%       162.87     B            Verified  ...       Jan-15   \n",
              "1       15.27%        59.83     C     Source Verified  ...       Apr-13   \n",
              "2       15.96%        84.33     C        Not Verified  ...       Jun-14   \n",
              "3       13.49%       339.31     C     Source Verified  ...       Jan-15   \n",
              "4        7.90%       156.46     A     Source Verified  ...       Jan-15   \n",
              "...        ...          ...   ...                 ...  ...          ...   \n",
              "38516    7.75%        93.67     A        Not Verified  ...       Apr-08   \n",
              "38517    7.75%        93.67     A        Not Verified  ...       Apr-08   \n",
              "38518   10.91%       130.79     C        Not Verified  ...       Aug-10   \n",
              "38519    8.70%        63.32     B        Not Verified  ...       Aug-10   \n",
              "38520    7.43%       124.31     A        Not Verified  ...       Aug-10   \n",
              "\n",
              "      last_pymnt_amnt last_credit_pull_d collections_12_mths_ex_med  \\\n",
              "0              171.62             May-16                        0.0   \n",
              "1              119.66             Sep-13                        0.0   \n",
              "2              649.91             May-16                        0.0   \n",
              "3              357.48             Apr-16                        0.0   \n",
              "4              161.03             Jan-16                        0.0   \n",
              "...               ...                ...                        ...   \n",
              "38516         2563.55             Aug-07                        0.0   \n",
              "38517         2563.59             Aug-07                        0.0   \n",
              "38518          134.78             Jun-11                        0.0   \n",
              "38519           64.27             Aug-10                        0.0   \n",
              "38520          119.24             Apr-15                        0.0   \n",
              "\n",
              "      policy_code  application_type  acc_now_delinq chargeoff_within_12_mths  \\\n",
              "0               1        INDIVIDUAL               0                      0.0   \n",
              "1               1        INDIVIDUAL               0                      0.0   \n",
              "2               1        INDIVIDUAL               0                      0.0   \n",
              "3               1        INDIVIDUAL               0                      0.0   \n",
              "4               1        INDIVIDUAL               0                      0.0   \n",
              "...           ...               ...             ...                      ...   \n",
              "38516           1        INDIVIDUAL               0                      0.0   \n",
              "38517           1        INDIVIDUAL               0                      0.0   \n",
              "38518           1        INDIVIDUAL               0                      0.0   \n",
              "38519           1        INDIVIDUAL               0                      0.0   \n",
              "38520           1        INDIVIDUAL               0                      0.0   \n",
              "\n",
              "      delinq_amnt  pub_rec_bankruptcies  \n",
              "0               0                   0.0  \n",
              "1               0                   0.0  \n",
              "2               0                   0.0  \n",
              "3               0                   0.0  \n",
              "4               0                   0.0  \n",
              "...           ...                   ...  \n",
              "38516           0                   NaN  \n",
              "38517           0                   NaN  \n",
              "38518           0                   NaN  \n",
              "38519           0                   NaN  \n",
              "38520           0                   NaN  \n",
              "\n",
              "[38521 rows x 38 columns]"
            ],
            "text/html": [
              "\n",
              "  <div id=\"df-e73fac1b-9fbe-4ab7-93b8-356f8ab31286\">\n",
              "    <div class=\"colab-df-container\">\n",
              "      <div>\n",
              "<style scoped>\n",
              "    .dataframe tbody tr th:only-of-type {\n",
              "        vertical-align: middle;\n",
              "    }\n",
              "\n",
              "    .dataframe tbody tr th {\n",
              "        vertical-align: top;\n",
              "    }\n",
              "\n",
              "    .dataframe thead th {\n",
              "        text-align: right;\n",
              "    }\n",
              "</style>\n",
              "<table border=\"1\" class=\"dataframe\">\n",
              "  <thead>\n",
              "    <tr style=\"text-align: right;\">\n",
              "      <th></th>\n",
              "      <th>index</th>\n",
              "      <th>member_id</th>\n",
              "      <th>loan_amnt</th>\n",
              "      <th>funded_amnt</th>\n",
              "      <th>funded_amnt_inv</th>\n",
              "      <th>term</th>\n",
              "      <th>int_rate</th>\n",
              "      <th>installment</th>\n",
              "      <th>grade</th>\n",
              "      <th>verification_status</th>\n",
              "      <th>...</th>\n",
              "      <th>last_pymnt_d</th>\n",
              "      <th>last_pymnt_amnt</th>\n",
              "      <th>last_credit_pull_d</th>\n",
              "      <th>collections_12_mths_ex_med</th>\n",
              "      <th>policy_code</th>\n",
              "      <th>application_type</th>\n",
              "      <th>acc_now_delinq</th>\n",
              "      <th>chargeoff_within_12_mths</th>\n",
              "      <th>delinq_amnt</th>\n",
              "      <th>pub_rec_bankruptcies</th>\n",
              "    </tr>\n",
              "  </thead>\n",
              "  <tbody>\n",
              "    <tr>\n",
              "      <th>0</th>\n",
              "      <td>0</td>\n",
              "      <td>1296599</td>\n",
              "      <td>5000</td>\n",
              "      <td>5000</td>\n",
              "      <td>4975.0</td>\n",
              "      <td>36 months</td>\n",
              "      <td>10.65%</td>\n",
              "      <td>162.87</td>\n",
              "      <td>B</td>\n",
              "      <td>Verified</td>\n",
              "      <td>...</td>\n",
              "      <td>Jan-15</td>\n",
              "      <td>171.62</td>\n",
              "      <td>May-16</td>\n",
              "      <td>0.0</td>\n",
              "      <td>1</td>\n",
              "      <td>INDIVIDUAL</td>\n",
              "      <td>0</td>\n",
              "      <td>0.0</td>\n",
              "      <td>0</td>\n",
              "      <td>0.0</td>\n",
              "    </tr>\n",
              "    <tr>\n",
              "      <th>1</th>\n",
              "      <td>1</td>\n",
              "      <td>1314167</td>\n",
              "      <td>2500</td>\n",
              "      <td>2500</td>\n",
              "      <td>2500.0</td>\n",
              "      <td>60 months</td>\n",
              "      <td>15.27%</td>\n",
              "      <td>59.83</td>\n",
              "      <td>C</td>\n",
              "      <td>Source Verified</td>\n",
              "      <td>...</td>\n",
              "      <td>Apr-13</td>\n",
              "      <td>119.66</td>\n",
              "      <td>Sep-13</td>\n",
              "      <td>0.0</td>\n",
              "      <td>1</td>\n",
              "      <td>INDIVIDUAL</td>\n",
              "      <td>0</td>\n",
              "      <td>0.0</td>\n",
              "      <td>0</td>\n",
              "      <td>0.0</td>\n",
              "    </tr>\n",
              "    <tr>\n",
              "      <th>2</th>\n",
              "      <td>2</td>\n",
              "      <td>1313524</td>\n",
              "      <td>2400</td>\n",
              "      <td>2400</td>\n",
              "      <td>2400.0</td>\n",
              "      <td>36 months</td>\n",
              "      <td>15.96%</td>\n",
              "      <td>84.33</td>\n",
              "      <td>C</td>\n",
              "      <td>Not Verified</td>\n",
              "      <td>...</td>\n",
              "      <td>Jun-14</td>\n",
              "      <td>649.91</td>\n",
              "      <td>May-16</td>\n",
              "      <td>0.0</td>\n",
              "      <td>1</td>\n",
              "      <td>INDIVIDUAL</td>\n",
              "      <td>0</td>\n",
              "      <td>0.0</td>\n",
              "      <td>0</td>\n",
              "      <td>0.0</td>\n",
              "    </tr>\n",
              "    <tr>\n",
              "      <th>3</th>\n",
              "      <td>3</td>\n",
              "      <td>1277178</td>\n",
              "      <td>10000</td>\n",
              "      <td>10000</td>\n",
              "      <td>10000.0</td>\n",
              "      <td>36 months</td>\n",
              "      <td>13.49%</td>\n",
              "      <td>339.31</td>\n",
              "      <td>C</td>\n",
              "      <td>Source Verified</td>\n",
              "      <td>...</td>\n",
              "      <td>Jan-15</td>\n",
              "      <td>357.48</td>\n",
              "      <td>Apr-16</td>\n",
              "      <td>0.0</td>\n",
              "      <td>1</td>\n",
              "      <td>INDIVIDUAL</td>\n",
              "      <td>0</td>\n",
              "      <td>0.0</td>\n",
              "      <td>0</td>\n",
              "      <td>0.0</td>\n",
              "    </tr>\n",
              "    <tr>\n",
              "      <th>4</th>\n",
              "      <td>5</td>\n",
              "      <td>1311441</td>\n",
              "      <td>5000</td>\n",
              "      <td>5000</td>\n",
              "      <td>5000.0</td>\n",
              "      <td>36 months</td>\n",
              "      <td>7.90%</td>\n",
              "      <td>156.46</td>\n",
              "      <td>A</td>\n",
              "      <td>Source Verified</td>\n",
              "      <td>...</td>\n",
              "      <td>Jan-15</td>\n",
              "      <td>161.03</td>\n",
              "      <td>Jan-16</td>\n",
              "      <td>0.0</td>\n",
              "      <td>1</td>\n",
              "      <td>INDIVIDUAL</td>\n",
              "      <td>0</td>\n",
              "      <td>0.0</td>\n",
              "      <td>0</td>\n",
              "      <td>0.0</td>\n",
              "    </tr>\n",
              "    <tr>\n",
              "      <th>...</th>\n",
              "      <td>...</td>\n",
              "      <td>...</td>\n",
              "      <td>...</td>\n",
              "      <td>...</td>\n",
              "      <td>...</td>\n",
              "      <td>...</td>\n",
              "      <td>...</td>\n",
              "      <td>...</td>\n",
              "      <td>...</td>\n",
              "      <td>...</td>\n",
              "      <td>...</td>\n",
              "      <td>...</td>\n",
              "      <td>...</td>\n",
              "      <td>...</td>\n",
              "      <td>...</td>\n",
              "      <td>...</td>\n",
              "      <td>...</td>\n",
              "      <td>...</td>\n",
              "      <td>...</td>\n",
              "      <td>...</td>\n",
              "      <td>...</td>\n",
              "    </tr>\n",
              "    <tr>\n",
              "      <th>38516</th>\n",
              "      <td>39661</td>\n",
              "      <td>121527</td>\n",
              "      <td>3000</td>\n",
              "      <td>3000</td>\n",
              "      <td>2225.0</td>\n",
              "      <td>36 months</td>\n",
              "      <td>7.75%</td>\n",
              "      <td>93.67</td>\n",
              "      <td>A</td>\n",
              "      <td>Not Verified</td>\n",
              "      <td>...</td>\n",
              "      <td>Apr-08</td>\n",
              "      <td>2563.55</td>\n",
              "      <td>Aug-07</td>\n",
              "      <td>0.0</td>\n",
              "      <td>1</td>\n",
              "      <td>INDIVIDUAL</td>\n",
              "      <td>0</td>\n",
              "      <td>0.0</td>\n",
              "      <td>0</td>\n",
              "      <td>NaN</td>\n",
              "    </tr>\n",
              "    <tr>\n",
              "      <th>38517</th>\n",
              "      <td>39662</td>\n",
              "      <td>121423</td>\n",
              "      <td>3000</td>\n",
              "      <td>3000</td>\n",
              "      <td>2975.0</td>\n",
              "      <td>36 months</td>\n",
              "      <td>7.75%</td>\n",
              "      <td>93.67</td>\n",
              "      <td>A</td>\n",
              "      <td>Not Verified</td>\n",
              "      <td>...</td>\n",
              "      <td>Apr-08</td>\n",
              "      <td>2563.59</td>\n",
              "      <td>Aug-07</td>\n",
              "      <td>0.0</td>\n",
              "      <td>1</td>\n",
              "      <td>INDIVIDUAL</td>\n",
              "      <td>0</td>\n",
              "      <td>0.0</td>\n",
              "      <td>0</td>\n",
              "      <td>NaN</td>\n",
              "    </tr>\n",
              "    <tr>\n",
              "      <th>38518</th>\n",
              "      <td>39663</td>\n",
              "      <td>120227</td>\n",
              "      <td>4000</td>\n",
              "      <td>4000</td>\n",
              "      <td>1475.0</td>\n",
              "      <td>36 months</td>\n",
              "      <td>10.91%</td>\n",
              "      <td>130.79</td>\n",
              "      <td>C</td>\n",
              "      <td>Not Verified</td>\n",
              "      <td>...</td>\n",
              "      <td>Aug-10</td>\n",
              "      <td>134.78</td>\n",
              "      <td>Jun-11</td>\n",
              "      <td>0.0</td>\n",
              "      <td>1</td>\n",
              "      <td>INDIVIDUAL</td>\n",
              "      <td>0</td>\n",
              "      <td>0.0</td>\n",
              "      <td>0</td>\n",
              "      <td>NaN</td>\n",
              "    </tr>\n",
              "    <tr>\n",
              "      <th>38519</th>\n",
              "      <td>39664</td>\n",
              "      <td>119635</td>\n",
              "      <td>2000</td>\n",
              "      <td>2000</td>\n",
              "      <td>475.0</td>\n",
              "      <td>36 months</td>\n",
              "      <td>8.70%</td>\n",
              "      <td>63.32</td>\n",
              "      <td>B</td>\n",
              "      <td>Not Verified</td>\n",
              "      <td>...</td>\n",
              "      <td>Aug-10</td>\n",
              "      <td>64.27</td>\n",
              "      <td>Aug-10</td>\n",
              "      <td>0.0</td>\n",
              "      <td>1</td>\n",
              "      <td>INDIVIDUAL</td>\n",
              "      <td>0</td>\n",
              "      <td>0.0</td>\n",
              "      <td>0</td>\n",
              "      <td>NaN</td>\n",
              "    </tr>\n",
              "    <tr>\n",
              "      <th>38520</th>\n",
              "      <td>39665</td>\n",
              "      <td>118760</td>\n",
              "      <td>4000</td>\n",
              "      <td>4000</td>\n",
              "      <td>3575.0</td>\n",
              "      <td>36 months</td>\n",
              "      <td>7.43%</td>\n",
              "      <td>124.31</td>\n",
              "      <td>A</td>\n",
              "      <td>Not Verified</td>\n",
              "      <td>...</td>\n",
              "      <td>Aug-10</td>\n",
              "      <td>119.24</td>\n",
              "      <td>Apr-15</td>\n",
              "      <td>0.0</td>\n",
              "      <td>1</td>\n",
              "      <td>INDIVIDUAL</td>\n",
              "      <td>0</td>\n",
              "      <td>0.0</td>\n",
              "      <td>0</td>\n",
              "      <td>NaN</td>\n",
              "    </tr>\n",
              "  </tbody>\n",
              "</table>\n",
              "<p>38521 rows × 38 columns</p>\n",
              "</div>\n",
              "      <button class=\"colab-df-convert\" onclick=\"convertToInteractive('df-e73fac1b-9fbe-4ab7-93b8-356f8ab31286')\"\n",
              "              title=\"Convert this dataframe to an interactive table.\"\n",
              "              style=\"display:none;\">\n",
              "        \n",
              "  <svg xmlns=\"http://www.w3.org/2000/svg\" height=\"24px\"viewBox=\"0 0 24 24\"\n",
              "       width=\"24px\">\n",
              "    <path d=\"M0 0h24v24H0V0z\" fill=\"none\"/>\n",
              "    <path d=\"M18.56 5.44l.94 2.06.94-2.06 2.06-.94-2.06-.94-.94-2.06-.94 2.06-2.06.94zm-11 1L8.5 8.5l.94-2.06 2.06-.94-2.06-.94L8.5 2.5l-.94 2.06-2.06.94zm10 10l.94 2.06.94-2.06 2.06-.94-2.06-.94-.94-2.06-.94 2.06-2.06.94z\"/><path d=\"M17.41 7.96l-1.37-1.37c-.4-.4-.92-.59-1.43-.59-.52 0-1.04.2-1.43.59L10.3 9.45l-7.72 7.72c-.78.78-.78 2.05 0 2.83L4 21.41c.39.39.9.59 1.41.59.51 0 1.02-.2 1.41-.59l7.78-7.78 2.81-2.81c.8-.78.8-2.07 0-2.86zM5.41 20L4 18.59l7.72-7.72 1.47 1.35L5.41 20z\"/>\n",
              "  </svg>\n",
              "      </button>\n",
              "      \n",
              "  <style>\n",
              "    .colab-df-container {\n",
              "      display:flex;\n",
              "      flex-wrap:wrap;\n",
              "      gap: 12px;\n",
              "    }\n",
              "\n",
              "    .colab-df-convert {\n",
              "      background-color: #E8F0FE;\n",
              "      border: none;\n",
              "      border-radius: 50%;\n",
              "      cursor: pointer;\n",
              "      display: none;\n",
              "      fill: #1967D2;\n",
              "      height: 32px;\n",
              "      padding: 0 0 0 0;\n",
              "      width: 32px;\n",
              "    }\n",
              "\n",
              "    .colab-df-convert:hover {\n",
              "      background-color: #E2EBFA;\n",
              "      box-shadow: 0px 1px 2px rgba(60, 64, 67, 0.3), 0px 1px 3px 1px rgba(60, 64, 67, 0.15);\n",
              "      fill: #174EA6;\n",
              "    }\n",
              "\n",
              "    [theme=dark] .colab-df-convert {\n",
              "      background-color: #3B4455;\n",
              "      fill: #D2E3FC;\n",
              "    }\n",
              "\n",
              "    [theme=dark] .colab-df-convert:hover {\n",
              "      background-color: #434B5C;\n",
              "      box-shadow: 0px 1px 3px 1px rgba(0, 0, 0, 0.15);\n",
              "      filter: drop-shadow(0px 1px 2px rgba(0, 0, 0, 0.3));\n",
              "      fill: #FFFFFF;\n",
              "    }\n",
              "  </style>\n",
              "\n",
              "      <script>\n",
              "        const buttonEl =\n",
              "          document.querySelector('#df-e73fac1b-9fbe-4ab7-93b8-356f8ab31286 button.colab-df-convert');\n",
              "        buttonEl.style.display =\n",
              "          google.colab.kernel.accessAllowed ? 'block' : 'none';\n",
              "\n",
              "        async function convertToInteractive(key) {\n",
              "          const element = document.querySelector('#df-e73fac1b-9fbe-4ab7-93b8-356f8ab31286');\n",
              "          const dataTable =\n",
              "            await google.colab.kernel.invokeFunction('convertToInteractive',\n",
              "                                                     [key], {});\n",
              "          if (!dataTable) return;\n",
              "\n",
              "          const docLinkHtml = 'Like what you see? Visit the ' +\n",
              "            '<a target=\"_blank\" href=https://colab.research.google.com/notebooks/data_table.ipynb>data table notebook</a>'\n",
              "            + ' to learn more about interactive tables.';\n",
              "          element.innerHTML = '';\n",
              "          dataTable['output_type'] = 'display_data';\n",
              "          await google.colab.output.renderOutput(dataTable, element);\n",
              "          const docLink = document.createElement('div');\n",
              "          docLink.innerHTML = docLinkHtml;\n",
              "          element.appendChild(docLink);\n",
              "        }\n",
              "      </script>\n",
              "    </div>\n",
              "  </div>\n",
              "  "
            ]
          },
          "metadata": {},
          "execution_count": 43
        }
      ],
      "source": [
        "loans_df_final"
      ]
    },
    {
      "cell_type": "code",
      "execution_count": null,
      "metadata": {
        "id": "TuoUfa5ADa__"
      },
      "outputs": [],
      "source": []
    }
  ],
  "metadata": {
    "colab": {
      "provenance": []
    },
    "kernelspec": {
      "display_name": "Python 3 (ipykernel)",
      "language": "python",
      "name": "python3"
    },
    "language_info": {
      "codemirror_mode": {
        "name": "ipython",
        "version": 3
      },
      "file_extension": ".py",
      "mimetype": "text/x-python",
      "name": "python",
      "nbconvert_exporter": "python",
      "pygments_lexer": "ipython3",
      "version": "3.10.9"
    }
  },
  "nbformat": 4,
  "nbformat_minor": 0
}